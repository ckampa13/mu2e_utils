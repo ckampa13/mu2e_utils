{
 "cells": [
  {
   "cell_type": "markdown",
   "metadata": {},
   "source": [
    "# Overview"
   ]
  },
  {
   "cell_type": "code",
   "execution_count": null,
   "metadata": {},
   "outputs": [],
   "source": []
  },
  {
   "cell_type": "code",
   "execution_count": null,
   "metadata": {},
   "outputs": [],
   "source": []
  },
  {
   "cell_type": "markdown",
   "metadata": {},
   "source": [
    "# Imports"
   ]
  },
  {
   "cell_type": "code",
   "execution_count": 115,
   "metadata": {},
   "outputs": [],
   "source": [
    "import numpy as np\n",
    "from scipy.stats import norm, poisson\n",
    "from scipy.interpolate import InterpolatedUnivariateSpline\n",
    "from tqdm.notebook import tqdm\n",
    "from joblib import Parallel, delayed\n",
    "import multiprocessing\n",
    "from matplotlib.ticker import MultipleLocator\n",
    "import matplotlib.pyplot as plt\n",
    "%matplotlib inline\n",
    "\n",
    "from plot_config import config_plots"
   ]
  },
  {
   "cell_type": "code",
   "execution_count": 122,
   "metadata": {},
   "outputs": [],
   "source": [
    "config_plots()"
   ]
  },
  {
   "cell_type": "code",
   "execution_count": 124,
   "metadata": {},
   "outputs": [],
   "source": [
    "#plt.rcParams['text.usetex'] = False"
   ]
  },
  {
   "cell_type": "code",
   "execution_count": 123,
   "metadata": {},
   "outputs": [
    {
     "data": {
      "text/plain": [
       "True"
      ]
     },
     "execution_count": 123,
     "metadata": {},
     "output_type": "execute_result"
    }
   ],
   "source": [
    "plt.rcParams['text.usetex']"
   ]
  },
  {
   "cell_type": "markdown",
   "metadata": {},
   "source": [
    "# Figure 1\n",
    "- Sensitivity optimization: mean vs. median"
   ]
  },
  {
   "cell_type": "code",
   "execution_count": 74,
   "metadata": {},
   "outputs": [],
   "source": [
    "#bs = np.arange(0.01, 0.51, 0.01) # shifted\n",
    "#bs = np.arange(0.005, 0.505, 0.01) # agreement\n",
    "bs = np.arange(0.005, 0.496, 0.001) # fine-tuned (~45 s to run)"
   ]
  },
  {
   "cell_type": "code",
   "execution_count": 38,
   "metadata": {
    "collapsed": true
   },
   "outputs": [
    {
     "data": {
      "text/plain": [
       "array([0.005, 0.006, 0.007, 0.008, 0.009, 0.01 , 0.011, 0.012, 0.013,\n",
       "       0.014, 0.015, 0.016, 0.017, 0.018, 0.019, 0.02 , 0.021, 0.022,\n",
       "       0.023, 0.024, 0.025, 0.026, 0.027, 0.028, 0.029, 0.03 , 0.031,\n",
       "       0.032, 0.033, 0.034, 0.035, 0.036, 0.037, 0.038, 0.039, 0.04 ,\n",
       "       0.041, 0.042, 0.043, 0.044, 0.045, 0.046, 0.047, 0.048, 0.049,\n",
       "       0.05 , 0.051, 0.052, 0.053, 0.054, 0.055, 0.056, 0.057, 0.058,\n",
       "       0.059, 0.06 , 0.061, 0.062, 0.063, 0.064, 0.065, 0.066, 0.067,\n",
       "       0.068, 0.069, 0.07 , 0.071, 0.072, 0.073, 0.074, 0.075, 0.076,\n",
       "       0.077, 0.078, 0.079, 0.08 , 0.081, 0.082, 0.083, 0.084, 0.085,\n",
       "       0.086, 0.087, 0.088, 0.089, 0.09 , 0.091, 0.092, 0.093, 0.094,\n",
       "       0.095, 0.096, 0.097, 0.098, 0.099, 0.1  , 0.101, 0.102, 0.103,\n",
       "       0.104, 0.105, 0.106, 0.107, 0.108, 0.109, 0.11 , 0.111, 0.112,\n",
       "       0.113, 0.114, 0.115, 0.116, 0.117, 0.118, 0.119, 0.12 , 0.121,\n",
       "       0.122, 0.123, 0.124, 0.125, 0.126, 0.127, 0.128, 0.129, 0.13 ,\n",
       "       0.131, 0.132, 0.133, 0.134, 0.135, 0.136, 0.137, 0.138, 0.139,\n",
       "       0.14 , 0.141, 0.142, 0.143, 0.144, 0.145, 0.146, 0.147, 0.148,\n",
       "       0.149, 0.15 , 0.151, 0.152, 0.153, 0.154, 0.155, 0.156, 0.157,\n",
       "       0.158, 0.159, 0.16 , 0.161, 0.162, 0.163, 0.164, 0.165, 0.166,\n",
       "       0.167, 0.168, 0.169, 0.17 , 0.171, 0.172, 0.173, 0.174, 0.175,\n",
       "       0.176, 0.177, 0.178, 0.179, 0.18 , 0.181, 0.182, 0.183, 0.184,\n",
       "       0.185, 0.186, 0.187, 0.188, 0.189, 0.19 , 0.191, 0.192, 0.193,\n",
       "       0.194, 0.195, 0.196, 0.197, 0.198, 0.199, 0.2  , 0.201, 0.202,\n",
       "       0.203, 0.204, 0.205, 0.206, 0.207, 0.208, 0.209, 0.21 , 0.211,\n",
       "       0.212, 0.213, 0.214, 0.215, 0.216, 0.217, 0.218, 0.219, 0.22 ,\n",
       "       0.221, 0.222, 0.223, 0.224, 0.225, 0.226, 0.227, 0.228, 0.229,\n",
       "       0.23 , 0.231, 0.232, 0.233, 0.234, 0.235, 0.236, 0.237, 0.238,\n",
       "       0.239, 0.24 , 0.241, 0.242, 0.243, 0.244, 0.245, 0.246, 0.247,\n",
       "       0.248, 0.249, 0.25 , 0.251, 0.252, 0.253, 0.254, 0.255, 0.256,\n",
       "       0.257, 0.258, 0.259, 0.26 , 0.261, 0.262, 0.263, 0.264, 0.265,\n",
       "       0.266, 0.267, 0.268, 0.269, 0.27 , 0.271, 0.272, 0.273, 0.274,\n",
       "       0.275, 0.276, 0.277, 0.278, 0.279, 0.28 , 0.281, 0.282, 0.283,\n",
       "       0.284, 0.285, 0.286, 0.287, 0.288, 0.289, 0.29 , 0.291, 0.292,\n",
       "       0.293, 0.294, 0.295, 0.296, 0.297, 0.298, 0.299, 0.3  , 0.301,\n",
       "       0.302, 0.303, 0.304, 0.305, 0.306, 0.307, 0.308, 0.309, 0.31 ,\n",
       "       0.311, 0.312, 0.313, 0.314, 0.315, 0.316, 0.317, 0.318, 0.319,\n",
       "       0.32 , 0.321, 0.322, 0.323, 0.324, 0.325, 0.326, 0.327, 0.328,\n",
       "       0.329, 0.33 , 0.331, 0.332, 0.333, 0.334, 0.335, 0.336, 0.337,\n",
       "       0.338, 0.339, 0.34 , 0.341, 0.342, 0.343, 0.344, 0.345, 0.346,\n",
       "       0.347, 0.348, 0.349, 0.35 , 0.351, 0.352, 0.353, 0.354, 0.355,\n",
       "       0.356, 0.357, 0.358, 0.359, 0.36 , 0.361, 0.362, 0.363, 0.364,\n",
       "       0.365, 0.366, 0.367, 0.368, 0.369, 0.37 , 0.371, 0.372, 0.373,\n",
       "       0.374, 0.375, 0.376, 0.377, 0.378, 0.379, 0.38 , 0.381, 0.382,\n",
       "       0.383, 0.384, 0.385, 0.386, 0.387, 0.388, 0.389, 0.39 , 0.391,\n",
       "       0.392, 0.393, 0.394, 0.395, 0.396, 0.397, 0.398, 0.399, 0.4  ,\n",
       "       0.401, 0.402, 0.403, 0.404, 0.405, 0.406, 0.407, 0.408, 0.409,\n",
       "       0.41 , 0.411, 0.412, 0.413, 0.414, 0.415, 0.416, 0.417, 0.418,\n",
       "       0.419, 0.42 , 0.421, 0.422, 0.423, 0.424, 0.425, 0.426, 0.427,\n",
       "       0.428, 0.429, 0.43 , 0.431, 0.432, 0.433, 0.434, 0.435, 0.436,\n",
       "       0.437, 0.438, 0.439, 0.44 , 0.441, 0.442, 0.443, 0.444, 0.445,\n",
       "       0.446, 0.447, 0.448, 0.449, 0.45 , 0.451, 0.452, 0.453, 0.454,\n",
       "       0.455, 0.456, 0.457, 0.458, 0.459, 0.46 , 0.461, 0.462, 0.463,\n",
       "       0.464, 0.465, 0.466, 0.467, 0.468, 0.469, 0.47 , 0.471, 0.472,\n",
       "       0.473, 0.474, 0.475, 0.476, 0.477, 0.478, 0.479, 0.48 , 0.481,\n",
       "       0.482, 0.483, 0.484, 0.485, 0.486, 0.487, 0.488, 0.489, 0.49 ,\n",
       "       0.491, 0.492, 0.493, 0.494, 0.495])"
      ]
     },
     "execution_count": 38,
     "metadata": {},
     "output_type": "execute_result"
    }
   ],
   "source": [
    "bs"
   ]
  },
  {
   "cell_type": "code",
   "execution_count": 43,
   "metadata": {},
   "outputs": [],
   "source": [
    "ss = np.linspace(1, 11, 20)\n",
    "#ss_med = np.linspace(1, 11, 1001)\n",
    "ss_med = np.linspace(1, 11, 101)\n",
    "ks = np.arange(0, 20, 1)"
   ]
  },
  {
   "cell_type": "code",
   "execution_count": 48,
   "metadata": {},
   "outputs": [],
   "source": [
    "P5s = norm.sf(5, loc=0, scale=1)"
   ]
  },
  {
   "cell_type": "code",
   "execution_count": 152,
   "metadata": {},
   "outputs": [],
   "source": [
    "def meanNsigma(b, s, ks): \n",
    "    ps = poisson.pmf(k=ks, mu=s+b) \n",
    "    # match\n",
    "    #sigmas = np.array([norm.isf(poisson.sf(k=k_-1, mu=b), loc=0, scale=1) \n",
    "    #                   if k_ > 0 else norm.isf(poisson.sf(k=0, mu=b), loc=0, scale=1) for k_ in ks])\n",
    "    # 0 sigma\n",
    "    sigmas = np.array([norm.isf(poisson.sf(k=k_-1, mu=b), loc=0, scale=1) \n",
    "                      if k_ > 0 else 0. for k_ in ks])\n",
    "    return np.sum(ps*sigmas)/np.sum(ps)\n",
    "\n",
    "def get_s_5sigma_mean(b, ks=ks, ss=ss): \n",
    "    meanNsigs = np.array([meanNsigma(b, s_, ks) for s_ in ss]) \n",
    "    s5 = InterpolatedUnivariateSpline(ss, meanNsigs - 5).roots()[0] \n",
    "    return s5\n",
    "\n",
    "def get_s_5sigma_med(b, ss_med=ss_med):\n",
    "    s = 0\n",
    "    n = s+b\n",
    "    ndisc = poisson.isf(P5s, mu=n)+1\n",
    "    sfs = poisson.sf(k=ndisc-1, mu=ss_med+b)\n",
    "#     s_med = ss_med[np.argmin(abs(sfs-0.5))]\n",
    "    s_med = InterpolatedUnivariateSpline(ss_med, sfs-0.5).roots()[0]\n",
    "    return s_med\n",
    "\n",
    "def calc_mean_med_5sigma(b, ks=ks, ss=ss, ss_med=ss_med): \n",
    "#     s = 0 \n",
    "#     n = s + b \n",
    "    s_mean = get_s_5sigma_mean(b, ks, ss) \n",
    "#     ndisc = poisson.isf(P5s, mu=n)+1 \n",
    "#     sfs = poisson.sf(k=ndisc-1, mu=ss_med+b) \n",
    "#     s_med = ss_med[np.argmin(abs(sfs-0.5))] \n",
    "    s_med = get_s_5sigma_med(b, ss_med)\n",
    "    return s_mean, s_med \n",
    "\n",
    "# parallel\n",
    "def parallel_5sigma(bs=bs, ks=ks, ss=ss, ss_med=ss_med):\n",
    "    # parallel processing\n",
    "    num_cpu = multiprocessing.cpu_count()\n",
    "    njs = min([num_cpu, len(bs)])\n",
    "    print(f'N_jobs = {njs}; cpu_count = {num_cpu}')\n",
    "    # parallel for loop\n",
    "    calc_tuples = Parallel(n_jobs=njs)(delayed(calc_mean_med_5sigma)(b_, ks, ss, ss_med) for b_ in tqdm(bs, desc='mu(b) index'))\n",
    "    s_means = np.array([i[0] for i in calc_tuples])\n",
    "    s_meds = np.array([i[1] for i in calc_tuples])\n",
    "    return s_means, s_meds\n",
    "    "
   ]
  },
  {
   "cell_type": "code",
   "execution_count": 75,
   "metadata": {
    "scrolled": true
   },
   "outputs": [
    {
     "name": "stdout",
     "output_type": "stream",
     "text": [
      "CPU times: user 31.7 s, sys: 13.8 ms, total: 31.7 s\n",
      "Wall time: 31.7 s\n"
     ]
    }
   ],
   "source": [
    "%%time\n",
    "# single process\n",
    "s_means, s_meds = np.array([calc_mean_med_5sigma(b_, ks, ss, ss_med) for b_ in bs]).T "
   ]
  },
  {
   "cell_type": "code",
   "execution_count": 153,
   "metadata": {},
   "outputs": [
    {
     "name": "stdout",
     "output_type": "stream",
     "text": [
      "N_jobs = 64; cpu_count = 64\n"
     ]
    },
    {
     "data": {
      "application/vnd.jupyter.widget-view+json": {
       "model_id": "af69c2835538468a9283e8697b929893",
       "version_major": 2,
       "version_minor": 0
      },
      "text/plain": [
       "HBox(children=(HTML(value='mu(b) index'), FloatProgress(value=0.0, max=491.0), HTML(value='')))"
      ]
     },
     "metadata": {},
     "output_type": "display_data"
    },
    {
     "name": "stdout",
     "output_type": "stream",
     "text": [
      "\n",
      "CPU times: user 862 ms, sys: 476 ms, total: 1.34 s\n",
      "Wall time: 1.84 s\n"
     ]
    }
   ],
   "source": [
    "%%time\n",
    "s_means, s_meds = parallel_5sigma(bs, ks, ss, ss_med)"
   ]
  },
  {
   "cell_type": "code",
   "execution_count": 86,
   "metadata": {},
   "outputs": [
    {
     "data": {
      "text/plain": [
       "405"
      ]
     },
     "execution_count": 86,
     "metadata": {},
     "output_type": "execute_result"
    }
   ],
   "source": [
    "np.argwhere(np.isclose(bs, 0.41))[0,0]"
   ]
  },
  {
   "cell_type": "code",
   "execution_count": 154,
   "metadata": {},
   "outputs": [],
   "source": [
    "idx_CD3 = np.argwhere(np.isclose(bs, 0.41))[0,0]\n",
    "b_CD3 = [bs[idx_CD3]]\n",
    "s_med_CD3 = [s_meds[idx_CD3]]\n",
    "\n",
    "idx_med = np.argwhere(np.isclose(bs, 0.12))[0,0]\n",
    "b_med = [bs[idx_med]]\n",
    "s_med = [s_meds[idx_med]]\n",
    "\n",
    "idx_mean = np.argwhere(np.isclose(bs, 0.04))[0,0]\n",
    "b_mean = [bs[idx_mean]]\n",
    "s_mean = [s_means[idx_mean]]"
   ]
  },
  {
   "cell_type": "code",
   "execution_count": 139,
   "metadata": {},
   "outputs": [
    {
     "data": {
      "text/plain": [
       "(115, 35)"
      ]
     },
     "execution_count": 139,
     "metadata": {},
     "output_type": "execute_result"
    }
   ],
   "source": [
    "idx_med, idx_mean"
   ]
  },
  {
   "cell_type": "code",
   "execution_count": 88,
   "metadata": {},
   "outputs": [
    {
     "data": {
      "text/plain": [
       "([0.41000000000000003], [6.259637093858691])"
      ]
     },
     "execution_count": 88,
     "metadata": {},
     "output_type": "execute_result"
    }
   ],
   "source": [
    "b_CD3, s_med_CD3"
   ]
  },
  {
   "cell_type": "code",
   "execution_count": 104,
   "metadata": {},
   "outputs": [],
   "source": [
    "#import matplotlib"
   ]
  },
  {
   "cell_type": "code",
   "execution_count": 105,
   "metadata": {},
   "outputs": [
    {
     "data": {
      "text/plain": [
       "'3.3.1'"
      ]
     },
     "execution_count": 105,
     "metadata": {},
     "output_type": "execute_result"
    }
   ],
   "source": [
    "#matplotlib.__version__"
   ]
  },
  {
   "cell_type": "code",
   "execution_count": 120,
   "metadata": {},
   "outputs": [],
   "source": [
    "#matplotlib.rcParams['text.latex.preamble']= r\"\\usepackage{amsmath}\""
   ]
  },
  {
   "cell_type": "code",
   "execution_count": 155,
   "metadata": {
    "scrolled": false
   },
   "outputs": [
    {
     "data": {
      "image/png": "[encoded data removed]",
      "text/plain": [
       "<Figure size 567.36x334.08 with 1 Axes>"
      ]
     },
     "metadata": {
      "needs_background": "light"
     },
     "output_type": "display_data"
    }
   ],
   "source": [
    "# make plot\n",
    "#fig, ax = plt.subplots(figsize=(10, 6))\n",
    "fig, ax = plt.subplots(figsize=(7.88, 4.64)) # match current plot\n",
    "#ax.plot(bs, s_meds, 'r-', linewidth=2, marker='.', mfc='black', mec='black', ms=1, zorder=10, label='median')\n",
    "#ax.plot(bs, s_means, 'k-', linewidth=1, marker='.', mfc='black', mec='black', ms=1, zorder=11, label='mean')\n",
    "ax.plot(bs, s_meds, 'r-', linewidth=2, zorder=10, label='median')\n",
    "ax.plot(bs, s_means, 'k-', linewidth=1, ms=1, zorder=11, label='mean')\n",
    "ax.scatter(b_CD3, s_med_CD3, s=75, c='blue', label='CD3', marker='x', zorder=12)\n",
    "# text labels\n",
    "plt.text(b_CD3[0], s_med_CD3[0] - 0.5, r\"$\\mathbf{CD3}$\", rotation=0, size='large',\n",
    "         verticalalignment='center', horizontalalignment='left', color='blue')\n",
    "\n",
    "plt.text(b_med[0]+0.02, s_med[0] - 0.2, r\"$\\mathbf{median}$\", rotation=0, size='large',\n",
    "         verticalalignment='center', horizontalalignment='left', color='red')\n",
    "plt.text(b_mean[0], s_mean[0] + 1.5, r\"$\\mathbf{mean}$\", rotation=0, size='large',\n",
    "         verticalalignment='center', horizontalalignment='left', color='black')\n",
    "\n",
    "# plt.annotate('CD3', xy=(b_CD3[0], s_med_CD3[0] - 1.) ,\n",
    "#              fontsize='large', rotation=0, fontweight='bold',\n",
    "#              verticalalignment='center', horizontalalignment='center', color='blue')\n",
    "\n",
    "ax.xaxis.set_major_locator(MultipleLocator(0.1))\n",
    "ax.xaxis.set_minor_locator(MultipleLocator(0.02))\n",
    "ax.yaxis.set_minor_locator(MultipleLocator(0.2))\n",
    "ax.tick_params(which='both', direction='in', top=True, right=True)\n",
    "ax.set_xlim([0, 0.55])\n",
    "ax.set_ylim([2.2, 7.7])\n",
    "# ax.legend()\n",
    "# fig.tight_layout(rect=[0, 0.03, 1, 0.95])\n",
    "fig.tight_layout(rect=[0.073, 0.025, 0.92, 0.95])\n",
    "\n",
    "#fig.suptitle(r'S(median) vs. $\\mu_\\mathrm{B}$'+'\\n(Classical Ordering)');\n",
    "# fig.suptitle(r'S(median) vs. $\\mu_\\mathrm{B}$');\n",
    "fig.suptitle(r'S(mean/median) vs. $\\mu_\\mathrm{B}$');\n",
    "fig.savefig('S_vs_muB.png', transparent=False)\n",
    "fig.savefig('S_vs_muB.pdf', transparent=False)\n",
    "fig.savefig('S_vs_muB.eps', format='eps', dpi=1200)"
   ]
  },
  {
   "cell_type": "code",
   "execution_count": 63,
   "metadata": {},
   "outputs": [
    {
     "data": {
      "text/plain": [
       "491"
      ]
     },
     "execution_count": 63,
     "metadata": {},
     "output_type": "execute_result"
    }
   ],
   "source": [
    "len(bs)"
   ]
  },
  {
   "cell_type": "code",
   "execution_count": null,
   "metadata": {},
   "outputs": [],
   "source": []
  }
 ],
 "metadata": {
  "kernelspec": {
   "display_name": "Python [conda env:mu2e_utils]",
   "language": "python",
   "name": "conda-env-mu2e_utils-py"
  },
  "language_info": {
   "codemirror_mode": {
    "name": "ipython",
    "version": 3
   },
   "file_extension": ".py",
   "mimetype": "text/x-python",
   "name": "python",
   "nbconvert_exporter": "python",
   "pygments_lexer": "ipython3",
   "version": "3.8.5"
  }
 },
 "nbformat": 4,
 "nbformat_minor": 2
}
