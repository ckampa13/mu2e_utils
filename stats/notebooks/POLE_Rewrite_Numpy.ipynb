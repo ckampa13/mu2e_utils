{
 "cells": [
  {
   "cell_type": "markdown",
   "metadata": {},
   "source": [
    "# Rewrite of POLE with Numpy, written by Conrad\n",
    "(See e.g. \"Including Systematic Uncertainties in Confidence Interval Construction for Poisson Statistics\")\n",
    "- Cole Kampa\n",
    "- 5-5-2021"
   ]
  },
  {
   "cell_type": "markdown",
   "metadata": {},
   "source": [
    "# Imports (Python)"
   ]
  },
  {
   "cell_type": "code",
   "execution_count": 1,
   "metadata": {},
   "outputs": [],
   "source": [
    "import numpy as np"
   ]
  },
  {
   "cell_type": "markdown",
   "metadata": {},
   "source": [
    "# Completed Functions (Python)"
   ]
  },
  {
   "cell_type": "code",
   "execution_count": 2,
   "metadata": {},
   "outputs": [],
   "source": [
    "# same as before\n",
    "def readin(filename='data/pole1.0.ini', verbose=True):\n",
    "    # read in initialization file. remove newline character and ignore comments (line starts with \"!\")\n",
    "    with open(filename, 'r') as f:\n",
    "        lines = [i.rstrip('\\n').rstrip(' ') for i in f.readlines() if not i[0] in ['!', '#', '*', 'C']]#, 'c', ]]\n",
    "    # loop through lines to set proper variables\n",
    "    for line in lines:\n",
    "        #print(line)\n",
    "        ident, val = line.split(' ')\n",
    "        if ident=='of':\n",
    "            filehb = val\n",
    "        elif ident=='ft':\n",
    "            filltrue = int(val)\n",
    "        elif ident=='ff':\n",
    "            fluxfactor = float(val)\n",
    "        elif ident=='ll':\n",
    "            conflevel = float(val)\n",
    "        elif ident=='fi':\n",
    "            filetrue = int(val)\n",
    "        elif ident=='fn':\n",
    "            filein = val\n",
    "        elif ident=='fo':\n",
    "            fileout = val\n",
    "        elif ident=='rf':\n",
    "            fmax = float(val)\n",
    "        elif ident=='sw':\n",
    "            width = float(val)\n",
    "        elif ident=='no':\n",
    "            normtrue = int(val)\n",
    "        elif ident=='fc':\n",
    "            FCtrue = int(val)\n",
    "        elif ident=='bg':\n",
    "            background = float(val)\n",
    "        elif ident=='nm':\n",
    "            nobs = int(val)\n",
    "        elif ident=='cc':\n",
    "            ctrue = int(val)\n",
    "        elif ident=='bu':\n",
    "            sbg = float(val)\n",
    "        elif ident=='pb':\n",
    "            bkpar = int(val)\n",
    "        elif ident=='eu':\n",
    "            sac = float(val)\n",
    "        elif ident=='pu':\n",
    "            spar = int(val)\n",
    "        elif ident=='eb':\n",
    "            bsac = float(val)\n",
    "        elif ident=='pe':\n",
    "            bar = int(val)\n",
    "    # calculate number of steps\n",
    "    step_help = fmax/width\n",
    "    steps = int(step_help)\n",
    "    if verbose:\n",
    "        # Tell User which parameters: \n",
    "        print('Performing Conf Belt Const :')\n",
    "        print(f'Output hbfile:     {filehb}')  \n",
    "        print(f'fill diagnostic histos {filltrue}')\n",
    "        print(f'Confidence Level {conflevel:0.5f}')\n",
    "        print(f'Condition (1=yes) {normtrue}')\n",
    "        print(f'stepwidth : {width:0.3f}')\n",
    "        print(f'Feldman Cousins    {FCtrue}')\n",
    "        print(f'fluxfactor:        {fluxfactor:0.3f}')\n",
    "        print(f'Read from file: {filein}')\n",
    "        print(f'Write to file: {fileout}')\n",
    "        print(f'Exp. BG events     {background:0.3f}')\n",
    "        print(f'Measured events    {nobs}')\n",
    "        print(' ')\n",
    "        print('Used Paramterisation :')\n",
    "        print('Gaussian = 1')\n",
    "        print('flat = 2')\n",
    "        print('log-normal = 3')\n",
    "        print(' ')\n",
    "        print(f'rel Aeff unc (sig): {sac:0.3f}')\n",
    "        print(f'Parametrization: {spar}')\n",
    "        print(f'rel Aeff unc (bck): {bsac:0.3f}')\n",
    "        print(f'Parametrization: {bar}')\n",
    "        print(f'rel bg unc:        {sbg:0.3f}')\n",
    "        print(f'Parametrization: {bkpar}')\n",
    "        print(f'max flux:          {fmax:0.3f}')\n",
    "        print(f'Number of steps: {steps}')\n",
    "        print('CAUTION: not bigger than 1000!')\n",
    "    #return lines\n",
    "    return filehb, filltrue, fluxfactor, conflevel, filetrue, filein, fileout, fmax, width,\\\n",
    "           normtrue, FCtrue, background, nobs, ctrue, sbg, bkpar, sac, spar, bsac, bar, steps"
   ]
  },
  {
   "cell_type": "code",
   "execution_count": 3,
   "metadata": {},
   "outputs": [],
   "source": [
    "# same as before\n",
    "def read_grid(filename='data/test.in'):\n",
    "    '''\n",
    "    x = background\n",
    "    y = number of observed events\n",
    "    '''\n",
    "    x = []; y = []\n",
    "    # read in input file. remove newline character\n",
    "    with open(filename, 'r') as f:\n",
    "        lines = [i.rstrip('\\n').rstrip(' ') for i in f.readlines()]\n",
    "    # loop through lines to grab x, y values set proper variables\n",
    "    for line in lines:\n",
    "        y_, x_ = line.split(' ')\n",
    "        x.append(float(x_))\n",
    "        y.append(float(y_))\n",
    "    x = np.array(x)\n",
    "    y = np.array(y)\n",
    "    ncalc = len(x)\n",
    "    return x, y, ncalc"
   ]
  },
  {
   "cell_type": "code",
   "execution_count": 127,
   "metadata": {},
   "outputs": [],
   "source": [
    "#def fluxfactors(sac,bsac,sbg,ctrue):\n",
    "def fluxfactors(sac,bsac,sbg,ctrue,N_exp):\n",
    "    sigfactor = np.zeros((3,N_exp)) # signal eff. unc.\n",
    "    befactor = np.zeros((3,N_exp)) # bg eff. unc.\n",
    "    bkfactor = np.zeros((3,N_exp)) # expected bg unc.\n",
    "    # Gaussian distribution; mu=0, std=1\n",
    "    a,b,r = np.random.normal(loc=0, scale=1, size=(3, N_exp))\n",
    "\n",
    "    # Uniform distribution \n",
    "    #call ranlux(ranvec,3)\n",
    "    ranvec = np.random.uniform(low=0, high=1, size=(3, N_exp))\n",
    "\n",
    "    # Conrad\n",
    "    sigfactor[0] = 1+sac*r\n",
    "    sigfactor[1] = (1-sac)+2*ranvec[0]*sac\n",
    "    sigfactor[2] = np.exp(sac*r - sac**2/2)\n",
    "\n",
    "    # background efficiency factors\n",
    "    if (ctrue == 1): # correlated\n",
    "        befactor[0] =  1+bsac*r\n",
    "        befactor[1] =  (1-bsac)+2*ranvec[0]*bsac\n",
    "        # mean of logN will be 1\n",
    "        befactor[2] = np.exp(bsac*r - bsac**2/2)\n",
    "    else: # no correlation\n",
    "        befactor[0] =  1+bsac*a\n",
    "        befactor[1] =  (1-bsac)+2*ranvec[1]*bsac\n",
    "        # mean of logN will be 1\n",
    "        befactor[2] = np.exp(bsac*a - bsac**2/2)\n",
    "\n",
    "    # background prediction factors.\n",
    "    bkfactor[0] = (1+sbg*b)\n",
    "    bkfactor[1] = (1-sbg)+2*ranvec[2]*sbg     \n",
    "    bkfactor[2] = np.exp(sbg*b - sbg*bsac/2)\n",
    "    \n",
    "    return sigfactor, befactor, bkfactor\n",
    "\n",
    "def fluxlim(trisigflu, sac, sbg, k, normtrue, used, fluxfactor,\n",
    "            background, nobs, bsac, width, filltrue, ctrue, spar, bar, bkpar, conflevel,\n",
    "            N_exp):\n",
    "    # PYTHON\n",
    "    #fntot = [] # container for each experiment n_tot\n",
    "    # Take flux from our MC\n",
    "    bckfluxnom = background/fluxfactor\n",
    "    # Perform Pseudo Experiments to calculate Integrals\n",
    "    # number of experiments\n",
    "    #N_exp = 100000\n",
    "    #N_exp = 1000000\n",
    "    #for i in range(100000): # change so this isn't hardcoded\n",
    "    # TESTING WITH FEWER GENERATED EXPERIMENTS\n",
    "    #for i in range(10000): # change so this isn't hardcoded\n",
    "    ###sigfactor, befactor, bkfactor = fluxfactors(sac, bsac, sbg, ctrue)\n",
    "    sigfactor, befactor, bkfactor = fluxfactors(sac, bsac, sbg, ctrue, N_exp)\n",
    "    # uncertainty in background flux    \n",
    "    bckflux = bckfluxnom*bkfactor[bkpar-1] # check bkpar indexing\n",
    "    # Diagnostics histograms\n",
    "    if (filltrue == 1): \n",
    "        #call hfill(k+2000,bkfactor(bkpar),1.,1.)\n",
    "        # FIXME!\n",
    "        pass\n",
    "    # include flux uncertainty\n",
    "    musignal = trisigflu*fluxfactor*sigfactor[spar-1] # check indexing\n",
    "    mubck  = bckflux*befactor[bar-1] # check indexing\n",
    "    # Truncation for Gaussian uncertainty\n",
    "    mask_trunc = (musignal < 0.) | (mubck < 0.)\n",
    "    musignal[mask_trunc] = 0.\n",
    "    mubck[mask_trunc] = 0.\n",
    "    ## FIX ME!!\n",
    "    #mask = (musignal < 0.) | (mubck < 0.)\n",
    "    #if (musignal < 0.) or (mubck < 0.):\n",
    "    #    continue # want next iteration\n",
    "    # generate signal and background\n",
    "    nsig = np.random.poisson(lam=musignal, size=N_exp)\n",
    "    nbck = np.random.poisson(lam=mubck, size=N_exp)\n",
    "    #if (normtrue==0): # without normalization\n",
    "    n_tot = nsig+nbck # total number observed\n",
    "    # fntot.append(float(n_tot))\n",
    "    fntot = n_tot.astype(np.float)\n",
    "    # Diagnostics\n",
    "    if (filltrue==1):\n",
    "        # call hfill(k+100,fntot(nc),1.,1.)\n",
    "        pass\n",
    "#     else: # with normalization\n",
    "#         # only keep event if nobs > nbck\n",
    "#         # should verify this enforces behavior given by cond\n",
    "#         if (nbck < nobs):  # < or <= ?\n",
    "#             n_tot = nsig+nbck\n",
    "#             fntot.append(float(n_tot))\n",
    "#             if (filltrue==1):\n",
    "#                 #call hfill(k+100,fntot(i),1.,1.)\n",
    "#                 pass\n",
    "#         else:\n",
    "#             continue\n",
    "\n",
    "    #fntot = np.array(fntot) # convert to array\n",
    "    # truncate\n",
    "    #mask_trunc = (musignal < 0.) | (mubck < 0.)\n",
    "    fntot = fntot[~mask_trunc]\n",
    "    # normalization\n",
    "    if normtrue != 0:\n",
    "        mask_norm = (nbck < nobs)\n",
    "        fntot = fntot[~mask_norm]\n",
    "    # normalizations, FC\n",
    "    # sort in ascending order\n",
    "    fntot = np.sort(fntot)\n",
    "    # limiting index for Neyman UL\n",
    "    jlim = round((1.-conflevel)*len(fntot)) - 1 # integer. if you use int() it rounds down!\n",
    "    intjlim = jlim # unnecessary--using round\n",
    "    nlim= fntot[intjlim]\n",
    "\n",
    "    # make histogram \"N Hist\" (new for python version)\n",
    "    dist, _ = np.histogram(fntot, bins=np.arange(0,101,1)) # maybe 0, 102 so 100 is in different bin than 99\n",
    "    #dist, _ = np.histogram(fntot, bins=np.arange(0,102,1)) # maybe 0, 102 so 100 is in different bin than 99\n",
    "    noent = np.sum(dist) # number of entries in histogram\n",
    "\n",
    "    # FIXME\n",
    "    # needed for FC?\n",
    "    #####call hfill(40,nlim,trisigflu,1.)\n",
    "\n",
    "    # default value for checking later\n",
    "    resflux = -1000 # can never be encountered for counting experiment\n",
    "    # calculate Neyman upper limit for the passed in n0\n",
    "    if (nlim == nobs+1):\n",
    "        if (used == 0):\n",
    "            resflux = trisigflu-width\n",
    "            print(f'\\nNeyman Upper Limit: {resflux}')\n",
    "            #print *,' '\n",
    "            #print 300,'Neyman Upper limit:',resflux\n",
    "        used = 1\n",
    "\n",
    "    return dist, noent, used, resflux, nlim\n",
    "    # can derive noent from dist, but leaving for now"
   ]
  },
  {
   "cell_type": "code",
   "execution_count": 128,
   "metadata": {},
   "outputs": [],
   "source": [
    "# PYTHON\n",
    "#def FC(matrix,fluxarray,nobs,nent,steps,filltrue, Philow,Phihigh,conflevel):\n",
    "def FC(matrix,fluxarray,nobs,nent,steps,filltrue, conflevel):\n",
    "\n",
    "      \n",
    "\n",
    "#      real*4 matrix(1000,100),R(1000,100),fj\n",
    "#      real*4 fluxarray(1000),temp,hbflux,nlim1,nlim2,dum\n",
    "#      real*4 mtemp(1000),Rtemp(100),adder,Philow,Phihigh,P_best(100)\n",
    "#      integer index(100),n_limit(2,1000),nobs,nent(1000),steps,filltrue\n",
    "#      real*4 conflevel\n",
    "\n",
    "    P_best = np.zeros(100)\n",
    "    R = np.zeros((steps, 100))\n",
    "    n_limit = np.zeros((2, steps))\n",
    "    \n",
    "    Philow=0\n",
    "    Phihigh=0\n",
    "\n",
    "    # for each n find mu_best                                           \n",
    "    for j in range(100):\n",
    "        #for i in range(steps):\n",
    "        #    mtemp[i] = matrix[i, j]\n",
    "        mtemp = matrix[:,j] # cleaner\n",
    "        mtemp = np.sort(mtemp) # sort in ascending order\n",
    "        # CHECK IF TRUE\n",
    "        P_best[j] = mtemp[-1] # best is mtemp with highest\n",
    "        if (filltrue == 1):\n",
    "            # FIXME! diagnostics\n",
    "            #call hfill(31,P_best(j),fluxarray(i),1.)\n",
    "            pass\n",
    "\n",
    "    # for each flux calculate likelihood ratio for each n                \n",
    "    for i in range(steps):\n",
    "        for j in range(100):\n",
    "            if (P_best[j] != 0) and (matrix[i,j] != 0):\n",
    "                R[i,j] = matrix[i,j] / P_best[j]\n",
    "            else:\n",
    "                R[i,j] = 0\n",
    "\n",
    "        # find i with highest R\n",
    "        Rtemp = R[i,:] # cleaner\n",
    "\n",
    "        '''\n",
    "        Rtemp = np.zeros(100)\n",
    "        for j in range(100):\n",
    "            Rtemp[j] = R[i,j]\n",
    "            fj = float(j)\n",
    "            # Diagnostics\n",
    "            if (filltrue == 1):\n",
    "                # FIXME!\n",
    "                # call hfill(i+1100,fj,Rtemp(j),1.)\n",
    "                pass\n",
    "        '''\n",
    "        index = np.argsort(Rtemp)[::-1]\n",
    "\n",
    "    # call sortzv(Rtemp,index,100,1,1,0,1)\n",
    "    # sort Rtemp; index is output index array (should be integer array length 100)\n",
    "    # 100 \"words\" to sort; 1--mode=real; 1--sort in descending order; 0--sort N values;\n",
    "    # 1--extra?;\n",
    "    # SEEMS TO HAVE ONE TOO MANY ARGUMENTS\n",
    "\n",
    "\n",
    "        # add P(for that i)\n",
    "        # until sum(P) = conflevel*100 %\n",
    "        #j = 0\n",
    "        adder = 0. # real\n",
    "        dum = conflevel*nent[i] # real\n",
    "        for j_ in range(100):\n",
    "            j=j_ # CHECK\n",
    "            if (adder >= dum):\n",
    "                break\n",
    "            adder += matrix[i, index[j_]]\n",
    "\n",
    "        index_sorted = np.sort(index[:j]) # ascending sort\n",
    "        n_limit[0,i] = index_sorted[0] # CHECK\n",
    "        n_limit[1,i] = index_sorted[-1] + 1 # CHECK\n",
    "\n",
    "        # find flux which has nobs as upper limit (Philow)\n",
    "        # find flux which has nobs as lower limit (Phihigh) (shift due to indexing)             \n",
    "        if (n_limit[0,i] == nobs):\n",
    "            Phihigh = fluxarray[i]\n",
    "        if (n_limit[1,i] == nobs):\n",
    "            Philow = fluxarray[i] # I think this would give wrong result...not positive\n",
    "\n",
    "        # just to be able to have a look at the construction \n",
    "        nlim1 = float(n_limit[0,i])\n",
    "        nlim2 = float(n_limit[1,i])\n",
    "        hbflux = fluxarray[i]\n",
    "        # FIXME! Filling histogram ID=50\n",
    "        #call hfill(50,nlim1,hbflux,1.)\n",
    "        #call hfill(50,nlim2,hbflux,1.)\n",
    "      \n",
    "    print('\\nexiting flux loop')\n",
    "    print(f' FC upper limit: {Phihigh:0.5f}')\n",
    "    print(f' FC lower limit: {Philow:0.5f}\\n\\n')\n",
    "\n",
    "    return Philow, Phihigh, n_limit"
   ]
  },
  {
   "cell_type": "markdown",
   "metadata": {},
   "source": [
    "# Main Function (Python)"
   ]
  },
  {
   "cell_type": "code",
   "execution_count": 129,
   "metadata": {},
   "outputs": [],
   "source": [
    "def main(ini_file='data/pole1.0.ini', N_exp=100000):\n",
    "    # read in steering file and print program configuration\n",
    "    filehb, filltrue, fluxfactor, conflevel, filetrue, filein, fileout, fmax, width,\\\n",
    "        normtrue, FCtrue, background, nobs, ctrue, sbg, bkpar, sac, spar, bsac, bar, steps\\\n",
    "        = readin(filename=ini_file)\n",
    "    if filetrue:\n",
    "        x, y, ncalc = read_grid(filename='data/'+filein)\n",
    "        print('-\\n-\\nMode: Read input from file\\n-')\n",
    "    else:\n",
    "        x = np.array([background]) # check\n",
    "        y = np.array([nobs]) # check\n",
    "        ncalc = 1\n",
    "        print('-\\n-\\nMode: single construction\\n-')\n",
    "    print(f'expected background (x): {x}')\n",
    "    print(f'number of observed (y): {y}')\n",
    "    \n",
    "    #### GOOD TO THIS POINT\n",
    "    # open output file\n",
    "    fout = open(fileout, \"w\")\n",
    "    # Loop over input nobs/BG pairs\n",
    "    for p in range(ncalc):\n",
    "        fluxarray = np.zeros(steps)\n",
    "        matrix = np.zeros((steps, 100))\n",
    "        nent = np.zeros(steps)\n",
    "        Philow=0.\n",
    "        Phihigh=0.\n",
    "        # FIXME! Reset histogram IDs: 50, 40, 100\n",
    "        nobs_ = y[p]\n",
    "        background_ = x[p]\n",
    "        #print(f'-\\nPerforming Construction for n0/bg: {nobs_}/{background_}\\n-\\n-\\nRanLux Messages\\n-\\n')\n",
    "        # message without \"RanLux\" Statement\n",
    "        print(f'-\\nPerforming Construction for n0/bg: {nobs_}/{background_}\\n-\\n-\\n')\n",
    "        trisigflux= 0.0\n",
    "        # Scan through flux space and perform Construction\n",
    "        used = 0\n",
    "        # FIXME! Reset histogram ID: 20\n",
    "        # Loop through trisigflux to try\n",
    "        mus = [] # TEST\n",
    "        for i in range(steps):\n",
    "            mus.append(trisigflux) # TEST\n",
    "            # progress tracker\n",
    "            # FIXME! Update to tqdm progress bar\n",
    "            if (i % int(steps/20)) == 0:\n",
    "                print('.')\n",
    "            \n",
    "            # INCREMENTS TWICE EACH LOOP--BAD!!!\n",
    "            #trisigflux =trisigflux+width # this starts us above 0?\n",
    "            #fluxarray[i] = trisigflux\n",
    "            \n",
    "            # Diagnostics histogramms\n",
    "            if (filltrue == 1):\n",
    "                # FIXME! diagnostics\n",
    "                #nh = 100 + i\n",
    "                #call hbook1(nh,'N Dist',100,0.,100.,0.)\n",
    "                pass\n",
    "            \n",
    "            # call fluxlim\n",
    "            dist, noent, used, resflux, nlim = fluxlim(trisigflux, sac, sbg, i, normtrue, used,\n",
    "                                                       fluxfactor, background_, nobs_, bsac, width,\n",
    "                                                       filltrue, ctrue, spar, bar, bkpar, conflevel,\n",
    "                                                       N_exp)\n",
    "            # fill matrix for Feldman Cousins\n",
    "            #for l in range(100):\n",
    "            #    matrix[i,l] = dist[l]\n",
    "            matrix[i, :] = dist # cleaner\n",
    "            nent[i] = noent\n",
    "            # Diagnostics histogramms\n",
    "            if (filltrue == 1):\n",
    "                # FIXME! diagnostics\n",
    "                # nh = 1100 + i\n",
    "                #call hbook2(nh,'Rank Dist.',100,0.,50.,10,0.,1.,1.)\n",
    "                pass\n",
    "            fluxarray[i] = trisigflux\n",
    "            trisigflux += width\n",
    "        \n",
    "        mus = np.array(mus) # TEST\n",
    "        \n",
    "        # Perform Likelihood Ratio construction \n",
    "        if (FCtrue == 1):\n",
    "            Philow, Phihigh, n_limit = FC(matrix,fluxarray,nobs_,nent,steps,filltrue, conflevel)\n",
    "\n",
    "        # Write output to file !\n",
    "        fout.write(f'{nobs_}, {background_}, {Philow}, {Phihigh}\\n')\n",
    "    # outside nobs/background loop\n",
    "    fout.close()\n",
    "    \n",
    "    print('Calculation complete!')\n",
    "    \n",
    "    return mus, Philow, Phihigh, n_limit, matrix, fluxarray, nent, steps"
   ]
  },
  {
   "cell_type": "markdown",
   "metadata": {},
   "source": [
    "# Recreate Figure 2"
   ]
  },
  {
   "cell_type": "code",
   "execution_count": 218,
   "metadata": {},
   "outputs": [],
   "source": [
    "N_exp = int(1e5)"
   ]
  },
  {
   "cell_type": "code",
   "execution_count": 220,
   "metadata": {
    "scrolled": true
   },
   "outputs": [
    {
     "name": "stdout",
     "output_type": "stream",
     "text": [
      "Performing Conf Belt Const :\n",
      "Output hbfile:     test.hb\n",
      "fill diagnostic histos 0\n",
      "Confidence Level 0.90000\n",
      "Condition (1=yes) 0\n",
      "stepwidth : 0.100\n",
      "Feldman Cousins    1\n",
      "fluxfactor:        1.000\n",
      "Read from file: test.in\n",
      "Write to file: test.out\n",
      "Exp. BG events     2.000\n",
      "Measured events    0\n",
      " \n",
      "Used Paramterisation :\n",
      "Gaussian = 1\n",
      "flat = 2\n",
      "log-normal = 3\n",
      " \n",
      "rel Aeff unc (sig): 0.000\n",
      "Parametrization: 3\n",
      "rel Aeff unc (bck): 0.000\n",
      "Parametrization: 1\n",
      "rel bg unc:        0.000\n",
      "Parametrization: 3\n",
      "max flux:          50.000\n",
      "Number of steps: 500\n",
      "CAUTION: not bigger than 1000!\n",
      "-\n",
      "-\n",
      "Mode: single construction\n",
      "-\n",
      "expected background (x): [2.]\n",
      "number of observed (y): [0]\n",
      "-\n",
      "Performing Construction for n0/bg: 0/2.0\n",
      "-\n",
      "-\n",
      "\n",
      ".\n",
      "\n",
      "Neyman Upper Limit: 0.30000000000000004\n",
      ".\n",
      ".\n",
      ".\n",
      ".\n",
      ".\n",
      ".\n",
      ".\n",
      ".\n",
      ".\n",
      ".\n",
      ".\n",
      ".\n",
      ".\n",
      ".\n",
      ".\n",
      ".\n",
      ".\n",
      ".\n",
      ".\n",
      "\n",
      "exiting flux loop\n",
      " FC upper limit: 1.10000\n",
      " FC lower limit: 0.00000\n",
      "\n",
      "\n",
      "Calculation complete!\n",
      "Performing Conf Belt Const :\n",
      "Output hbfile:     test.hb\n",
      "fill diagnostic histos 0\n",
      "Confidence Level 0.90000\n",
      "Condition (1=yes) 0\n",
      "stepwidth : 0.100\n",
      "Feldman Cousins    1\n",
      "fluxfactor:        1.000\n",
      "Read from file: test.in\n",
      "Write to file: test.out\n",
      "Exp. BG events     2.000\n",
      "Measured events    0\n",
      " \n",
      "Used Paramterisation :\n",
      "Gaussian = 1\n",
      "flat = 2\n",
      "log-normal = 3\n",
      " \n",
      "rel Aeff unc (sig): 0.000\n",
      "Parametrization: 3\n",
      "rel Aeff unc (bck): 0.000\n",
      "Parametrization: 1\n",
      "rel bg unc:        0.000\n",
      "Parametrization: 3\n",
      "max flux:          50.000\n",
      "Number of steps: 500\n",
      "CAUTION: not bigger than 1000!\n",
      "-\n",
      "-\n",
      "Mode: single construction\n",
      "-\n",
      "expected background (x): [2.]\n",
      "number of observed (y): [0]\n",
      "-\n",
      "Performing Construction for n0/bg: 0/2.0\n",
      "-\n",
      "-\n",
      "\n",
      ".\n",
      "\n",
      "Neyman Upper Limit: 0.30000000000000004\n",
      ".\n",
      ".\n",
      ".\n",
      ".\n",
      ".\n",
      ".\n",
      ".\n",
      ".\n",
      ".\n",
      ".\n",
      ".\n",
      ".\n",
      ".\n",
      ".\n",
      ".\n",
      ".\n",
      ".\n",
      ".\n",
      ".\n",
      "\n",
      "exiting flux loop\n",
      " FC upper limit: 1.00000\n",
      " FC lower limit: 0.00000\n",
      "\n",
      "\n",
      "Calculation complete!\n"
     ]
    }
   ],
   "source": [
    "# no signal uncertainty\n",
    "mus, Philow, Phihigh, n_limit, matrix, fluxarray, nent, steps = main(ini_file='data/fig2_no_sys.ini',\n",
    "                                                                     N_exp=N_exp)\n",
    "mus2, Philow2, Phihigh2, n_limit2, matrix2, fluxarray2, nent2, steps2 = main(ini_file='data/fig2_no_sys.ini',\n",
    "                                                                             N_exp=N_exp)"
   ]
  },
  {
   "cell_type": "code",
   "execution_count": 221,
   "metadata": {},
   "outputs": [
    {
     "name": "stdout",
     "output_type": "stream",
     "text": [
      "Performing Conf Belt Const :\n",
      "Output hbfile:     test.hb\n",
      "fill diagnostic histos 0\n",
      "Confidence Level 0.90000\n",
      "Condition (1=yes) 0\n",
      "stepwidth : 0.100\n",
      "Feldman Cousins    1\n",
      "fluxfactor:        1.000\n",
      "Read from file: test.in\n",
      "Write to file: test.out\n",
      "Exp. BG events     2.000\n",
      "Measured events    0\n",
      " \n",
      "Used Paramterisation :\n",
      "Gaussian = 1\n",
      "flat = 2\n",
      "log-normal = 3\n",
      " \n",
      "rel Aeff unc (sig): 0.400\n",
      "Parametrization: 3\n",
      "rel Aeff unc (bck): 0.000\n",
      "Parametrization: 1\n",
      "rel bg unc:        0.000\n",
      "Parametrization: 3\n",
      "max flux:          50.000\n",
      "Number of steps: 500\n",
      "CAUTION: not bigger than 1000!\n",
      "-\n",
      "-\n",
      "Mode: single construction\n",
      "-\n",
      "expected background (x): [2.]\n",
      "number of observed (y): [0]\n",
      "-\n",
      "Performing Construction for n0/bg: 0/2.0\n",
      "-\n",
      "-\n",
      "\n",
      ".\n",
      "\n",
      "Neyman Upper Limit: 0.30000000000000004\n",
      ".\n",
      ".\n",
      ".\n",
      ".\n",
      ".\n",
      ".\n",
      ".\n",
      ".\n",
      ".\n",
      ".\n",
      ".\n",
      ".\n",
      ".\n",
      ".\n",
      ".\n",
      ".\n",
      ".\n",
      ".\n",
      ".\n",
      "\n",
      "exiting flux loop\n",
      " FC upper limit: 1.30000\n",
      " FC lower limit: 0.00000\n",
      "\n",
      "\n",
      "Calculation complete!\n",
      "Performing Conf Belt Const :\n",
      "Output hbfile:     test.hb\n",
      "fill diagnostic histos 0\n",
      "Confidence Level 0.90000\n",
      "Condition (1=yes) 0\n",
      "stepwidth : 0.100\n",
      "Feldman Cousins    1\n",
      "fluxfactor:        1.000\n",
      "Read from file: test.in\n",
      "Write to file: test.out\n",
      "Exp. BG events     2.000\n",
      "Measured events    0\n",
      " \n",
      "Used Paramterisation :\n",
      "Gaussian = 1\n",
      "flat = 2\n",
      "log-normal = 3\n",
      " \n",
      "rel Aeff unc (sig): 0.400\n",
      "Parametrization: 3\n",
      "rel Aeff unc (bck): 0.000\n",
      "Parametrization: 1\n",
      "rel bg unc:        0.000\n",
      "Parametrization: 3\n",
      "max flux:          50.000\n",
      "Number of steps: 500\n",
      "CAUTION: not bigger than 1000!\n",
      "-\n",
      "-\n",
      "Mode: single construction\n",
      "-\n",
      "expected background (x): [2.]\n",
      "number of observed (y): [0]\n",
      "-\n",
      "Performing Construction for n0/bg: 0/2.0\n",
      "-\n",
      "-\n",
      "\n",
      ".\n",
      "\n",
      "Neyman Upper Limit: 0.30000000000000004\n",
      ".\n",
      ".\n",
      ".\n",
      ".\n",
      ".\n",
      ".\n",
      ".\n",
      ".\n",
      ".\n",
      ".\n",
      ".\n",
      ".\n",
      ".\n",
      ".\n",
      ".\n",
      ".\n",
      ".\n",
      ".\n",
      ".\n",
      "\n",
      "exiting flux loop\n",
      " FC upper limit: 1.30000\n",
      " FC lower limit: 0.00000\n",
      "\n",
      "\n",
      "Calculation complete!\n"
     ]
    }
   ],
   "source": [
    "# signal uncertainty\n",
    "mus_, Philow_, Phihigh_, n_limit_, matrix_, fluxarray_, nent_, steps_ = main(ini_file='data/fig2_sys.ini',\n",
    "                                                                             N_exp=N_exp)\n",
    "mus_2, Philow_2, Phihigh_2, n_limit_2, matrix_2, fluxarray_2, nent_2, steps_2 = main(ini_file='data/fig2_sys.ini',\n",
    "                                                                                     N_exp=N_exp)"
   ]
  },
  {
   "cell_type": "code",
   "execution_count": 222,
   "metadata": {},
   "outputs": [],
   "source": [
    "#mus, n_limit"
   ]
  },
  {
   "cell_type": "code",
   "execution_count": 223,
   "metadata": {},
   "outputs": [
    {
     "data": {
      "text/plain": [
       "((500,), (2, 500))"
      ]
     },
     "execution_count": 223,
     "metadata": {},
     "output_type": "execute_result"
    }
   ],
   "source": [
    "mus.shape, n_limit.shape"
   ]
  },
  {
   "cell_type": "code",
   "execution_count": 224,
   "metadata": {},
   "outputs": [],
   "source": [
    "import matplotlib.pyplot as plt\n",
    "from matplotlib.ticker import AutoMinorLocator\n",
    "%matplotlib inline\n",
    "\n",
    "from plot_config import config_plots\n",
    "config_plots()"
   ]
  },
  {
   "cell_type": "code",
   "execution_count": 225,
   "metadata": {},
   "outputs": [
    {
     "data": {
      "image/png": "[encoded data removed]",
      "text/plain": [
       "<Figure size 720x576 with 1 Axes>"
      ]
     },
     "metadata": {
      "needs_background": "light"
     },
     "output_type": "display_data"
    }
   ],
   "source": [
    "#fig, ax = plt.subplots(figsize=(10,8))\n",
    "fig, ax = plt.subplots()\n",
    "ax.scatter(n_limit[0,:], mus, c='blue', marker='^',\n",
    "           label=r'Fractional Uncertainty = 0 (Trial 1)')\n",
    "ax.scatter(n_limit[1,:], mus, c='blue', marker='^')\n",
    "ax.scatter(n_limit2[0,:], mus2, marker='^', facecolors='none', edgecolors='cyan',\n",
    "           label=r'Fractional Uncertainty = 0 (Trial 2)')\n",
    "ax.scatter(n_limit2[1,:], mus2, marker='^', facecolors='none', edgecolors='cyan')\n",
    "ax.scatter(n_limit_[0,:], mus_, c='red',\n",
    "           label=r'Fractional Uncertainty = 0.4 (Trial 1)')\n",
    "ax.scatter(n_limit_[1,:], mus_, c='red')\n",
    "ax.scatter(n_limit_2[0,:], mus_2, marker='o', facecolors='none', edgecolors=f'orange',\n",
    "           label=r'Fractional Uncertainty = 0.4 (Trial 2)')\n",
    "ax.scatter(n_limit_2[1,:], mus_2, marker='o', facecolors='none', edgecolors=f'orange')\n",
    "ax.set_xlim([0,50])\n",
    "ax.set_ylim([0,25])\n",
    "ax.set_xticks(np.arange(0, 55, 5))\n",
    "ax.set_yticks(np.arange(0, 27.5, 2.5))\n",
    "ax.xaxis.set_minor_locator(AutoMinorLocator())\n",
    "ax.yaxis.set_minor_locator(AutoMinorLocator())\n",
    "ax.tick_params(direction='in', which='both')\n",
    "ax.set_xlabel(r'$n$')\n",
    "# ax.set_ylabel(r'$\\mu$');\n",
    "ax.set_ylabel('s');\n",
    "ax.set_title('90% Confidence Belts with Signal Acceptance Uncerctainty\\n'+r'Feldman-Cousins Ordering, $b = 2$')\n",
    "ax.legend()\n",
    "fig.savefig('fig2_recreate.png', transparent=False)\n",
    "fig.savefig('fig2_recreate.pdf', transparent=False)"
   ]
  },
  {
   "cell_type": "markdown",
   "metadata": {},
   "source": [
    "# Make Plot for Mu2e SU2020"
   ]
  },
  {
   "cell_type": "markdown",
   "metadata": {},
   "source": [
    "## SU2020 Background Numbers"
   ]
  },
  {
   "cell_type": "code",
   "execution_count": 226,
   "metadata": {},
   "outputs": [],
   "source": [
    "NPOT = 3.77e19\n",
    "scaleLuminosity_ = 1.\n",
    "dio_bkg = 0.0096  #see docdb-36476 Table 9                                                                                                          \n",
    "dio_frac_unc = 0.834  #using systematic upper estimate with statistical error                                                                       \n",
    "rpc_bkg = 7.06e-4  #see docdb-36503 section 11.2                                                                                                    \n",
    "rpc_frac_unc = 0.16  #using systematic upper estimate with statistical error                                                                        \n",
    "extinction = 1.  #in units of 10^-10, FIXME: Get expected value                                                                                     \n",
    "rpc_oot_bkg = 13.9e-4*extinction  #see docdb-36503 section 11.3                                                                                     \n",
    "rpc_oot_frac_unc = 0.12  #using systematic upper estimate with statistical error                                                                    \n",
    "pbar_bkg = 0.069 * NPOT/3.6e20  #see docdb-36494 eq 60                                                                                           \n",
    "pbar_frac_unc = 1.  #100% uncertainty quoted - careful with Gaussian mode!                                                                          \n",
    "cr_lo_bkg = 0.03  #see docdb-38052 slide 20                                                                                                         \n",
    "cr_lo_frac_unc = 0.20                                                                                                                                \n",
    "cr_hi_bkg = 0.02  #see docdb-38052 slide 20                                                                                                         \n",
    "cr_hi_frac_unc = 0.50                                                                                                                                \n",
    "lumi_frac_unc = 0.1                                                                                                                                  \n",
    "signal_acceptance = 0.1114  #see docdb-36491 Table 5                                                                                                \n",
    "sig_frac_unc = 0.0715  #taken as the average of the momentum scale, but should be two-sided and correlated with DIO                                 \n",
    "#ses = 1./(scaleLuminosity_*3.77e19*1.59e-3*0.609)  #for signal strength -> R_mue\n",
    "ses = (NPOT*1.88e-3* .609 * signal_acceptance)**(-1)\n",
    "# ses = (N_POT * P_mu_stop * f_capture * signal_acceptance) # see docdb-36491 Table 5 for numbers"
   ]
  },
  {
   "cell_type": "code",
   "execution_count": 227,
   "metadata": {},
   "outputs": [
    {
     "data": {
      "text/plain": [
       "3.8e+20"
      ]
     },
     "execution_count": 227,
     "metadata": {},
     "output_type": "execute_result"
    }
   ],
   "source": [
    "3.8e20 "
   ]
  },
  {
   "cell_type": "code",
   "execution_count": 228,
   "metadata": {},
   "outputs": [
    {
     "data": {
      "text/plain": [
       "4.0104e+19"
      ]
     },
     "execution_count": 228,
     "metadata": {},
     "output_type": "execute_result"
    }
   ],
   "source": [
    "3.6e20 * signal_acceptance"
   ]
  },
  {
   "cell_type": "code",
   "execution_count": 229,
   "metadata": {},
   "outputs": [
    {
     "data": {
      "text/plain": [
       "3.2508e+19"
      ]
     },
     "execution_count": 229,
     "metadata": {},
     "output_type": "execute_result"
    }
   ],
   "source": [
    "3.6e20 * 0.0903"
   ]
  },
  {
   "cell_type": "code",
   "execution_count": 230,
   "metadata": {},
   "outputs": [
    {
     "data": {
      "text/plain": [
       "2.0796886280602864e-16"
      ]
     },
     "execution_count": 230,
     "metadata": {},
     "output_type": "execute_result"
    }
   ],
   "source": [
    "ses"
   ]
  },
  {
   "cell_type": "code",
   "execution_count": 231,
   "metadata": {},
   "outputs": [
    {
     "data": {
      "text/plain": [
       "2.0796886280602864e-16"
      ]
     },
     "execution_count": 231,
     "metadata": {},
     "output_type": "execute_result"
    }
   ],
   "source": [
    "ses"
   ]
  },
  {
   "cell_type": "markdown",
   "metadata": {},
   "source": [
    "### Backgrounds"
   ]
  },
  {
   "cell_type": "code",
   "execution_count": 232,
   "metadata": {},
   "outputs": [],
   "source": [
    "bgs = np.array([dio_bkg, rpc_bkg, rpc_oot_bkg, pbar_bkg, cr_lo_bkg, cr_hi_bkg])\n",
    "frac_uncs = np.array([dio_frac_unc, rpc_frac_unc, rpc_oot_frac_unc, pbar_frac_unc, cr_lo_frac_unc, cr_hi_frac_unc])"
   ]
  },
  {
   "cell_type": "code",
   "execution_count": 233,
   "metadata": {},
   "outputs": [
    {
     "data": {
      "text/plain": [
       "(array([0.0096    , 0.000706  , 0.00139   , 0.00722583, 0.03      ,\n",
       "        0.02      ]),\n",
       " array([0.834, 0.16 , 0.12 , 1.   , 0.2  , 0.5  ]))"
      ]
     },
     "execution_count": 233,
     "metadata": {},
     "output_type": "execute_result"
    }
   ],
   "source": [
    "bgs, frac_uncs"
   ]
  },
  {
   "cell_type": "code",
   "execution_count": 234,
   "metadata": {},
   "outputs": [
    {
     "data": {
      "text/plain": [
       "0.06892183333333333"
      ]
     },
     "execution_count": 234,
     "metadata": {},
     "output_type": "execute_result"
    }
   ],
   "source": [
    "total_bg = np.sum(bgs)\n",
    "total_bg"
   ]
  },
  {
   "cell_type": "code",
   "execution_count": 235,
   "metadata": {},
   "outputs": [
    {
     "data": {
      "text/plain": [
       "array([0.0080064 , 0.00011296, 0.0001668 , 0.00722583, 0.006     ,\n",
       "       0.01      ])"
      ]
     },
     "execution_count": 235,
     "metadata": {},
     "output_type": "execute_result"
    }
   ],
   "source": [
    "uncs = frac_uncs * bgs\n",
    "uncs"
   ]
  },
  {
   "cell_type": "code",
   "execution_count": 236,
   "metadata": {},
   "outputs": [
    {
     "data": {
      "text/plain": [
       "0.01588570711434373"
      ]
     },
     "execution_count": 236,
     "metadata": {},
     "output_type": "execute_result"
    }
   ],
   "source": [
    "total_bg_unc = np.linalg.norm(uncs)\n",
    "total_bg_unc"
   ]
  },
  {
   "cell_type": "code",
   "execution_count": 237,
   "metadata": {},
   "outputs": [
    {
     "data": {
      "text/plain": [
       "0.23048874857280927"
      ]
     },
     "execution_count": 237,
     "metadata": {},
     "output_type": "execute_result"
    }
   ],
   "source": [
    "total_bg_frac_unc = total_bg_unc / total_bg\n",
    "total_bg_frac_unc"
   ]
  },
  {
   "cell_type": "code",
   "execution_count": 238,
   "metadata": {},
   "outputs": [
    {
     "data": {
      "text/plain": [
       "0.01588570711434373"
      ]
     },
     "execution_count": 238,
     "metadata": {},
     "output_type": "execute_result"
    }
   ],
   "source": [
    "np.sum(np.square(uncs))**(1/2)"
   ]
  },
  {
   "cell_type": "markdown",
   "metadata": {},
   "source": [
    "### Signal Efficiency"
   ]
  },
  {
   "cell_type": "code",
   "execution_count": 239,
   "metadata": {},
   "outputs": [
    {
     "data": {
      "text/plain": [
       "0.1114"
      ]
     },
     "execution_count": 239,
     "metadata": {},
     "output_type": "execute_result"
    }
   ],
   "source": [
    "signal_acceptance"
   ]
  },
  {
   "cell_type": "code",
   "execution_count": 240,
   "metadata": {},
   "outputs": [
    {
     "data": {
      "text/plain": [
       "0.0715"
      ]
     },
     "execution_count": 240,
     "metadata": {},
     "output_type": "execute_result"
    }
   ],
   "source": [
    "sig_frac_unc"
   ]
  },
  {
   "cell_type": "markdown",
   "metadata": {},
   "source": [
    "## Run with the different input files"
   ]
  },
  {
   "cell_type": "code",
   "execution_count": 242,
   "metadata": {},
   "outputs": [],
   "source": [
    "N_exp = int(1e5)"
   ]
  },
  {
   "cell_type": "code",
   "execution_count": 243,
   "metadata": {
    "scrolled": true
   },
   "outputs": [
    {
     "name": "stdout",
     "output_type": "stream",
     "text": [
      "Performing Conf Belt Const :\n",
      "Output hbfile:     test.hb\n",
      "fill diagnostic histos 0\n",
      "Confidence Level 0.90000\n",
      "Condition (1=yes) 0\n",
      "stepwidth : 0.100\n",
      "Feldman Cousins    1\n",
      "fluxfactor:        1.000\n",
      "Read from file: test.in\n",
      "Write to file: test.out\n",
      "Exp. BG events     0.069\n",
      "Measured events    0\n",
      " \n",
      "Used Paramterisation :\n",
      "Gaussian = 1\n",
      "flat = 2\n",
      "log-normal = 3\n",
      " \n",
      "rel Aeff unc (sig): 0.000\n",
      "Parametrization: 3\n",
      "rel Aeff unc (bck): 0.000\n",
      "Parametrization: 1\n",
      "rel bg unc:        0.000\n",
      "Parametrization: 3\n",
      "max flux:          50.000\n",
      "Number of steps: 500\n",
      "CAUTION: not bigger than 1000!\n",
      "-\n",
      "-\n",
      "Mode: single construction\n",
      "-\n",
      "expected background (x): [0.06892183]\n",
      "number of observed (y): [0]\n",
      "-\n",
      "Performing Construction for n0/bg: 0/0.06892183333333333\n",
      "-\n",
      "-\n",
      "\n",
      ".\n",
      "\n",
      "Neyman Upper Limit: 2.2000000000000006\n",
      ".\n",
      ".\n",
      ".\n",
      ".\n",
      ".\n",
      ".\n",
      ".\n",
      ".\n",
      ".\n",
      ".\n",
      ".\n",
      ".\n",
      ".\n",
      ".\n",
      ".\n",
      ".\n",
      ".\n",
      ".\n",
      ".\n",
      "\n",
      "exiting flux loop\n",
      " FC upper limit: 2.30000\n",
      " FC lower limit: 0.00000\n",
      "\n",
      "\n",
      "Calculation complete!\n",
      "Performing Conf Belt Const :\n",
      "Output hbfile:     test.hb\n",
      "fill diagnostic histos 0\n",
      "Confidence Level 0.90000\n",
      "Condition (1=yes) 0\n",
      "stepwidth : 0.100\n",
      "Feldman Cousins    1\n",
      "fluxfactor:        1.000\n",
      "Read from file: test.in\n",
      "Write to file: test.out\n",
      "Exp. BG events     0.069\n",
      "Measured events    0\n",
      " \n",
      "Used Paramterisation :\n",
      "Gaussian = 1\n",
      "flat = 2\n",
      "log-normal = 3\n",
      " \n",
      "rel Aeff unc (sig): 0.000\n",
      "Parametrization: 3\n",
      "rel Aeff unc (bck): 0.000\n",
      "Parametrization: 1\n",
      "rel bg unc:        0.000\n",
      "Parametrization: 3\n",
      "max flux:          50.000\n",
      "Number of steps: 500\n",
      "CAUTION: not bigger than 1000!\n",
      "-\n",
      "-\n",
      "Mode: single construction\n",
      "-\n",
      "expected background (x): [0.06892183]\n",
      "number of observed (y): [0]\n",
      "-\n",
      "Performing Construction for n0/bg: 0/0.06892183333333333\n",
      "-\n",
      "-\n",
      "\n",
      ".\n",
      "\n",
      "Neyman Upper Limit: 2.2000000000000006\n",
      ".\n",
      ".\n",
      ".\n",
      ".\n",
      ".\n",
      ".\n",
      ".\n",
      ".\n",
      ".\n",
      ".\n",
      ".\n",
      ".\n",
      ".\n",
      ".\n",
      ".\n",
      ".\n",
      ".\n",
      ".\n",
      ".\n",
      "\n",
      "exiting flux loop\n",
      " FC upper limit: 2.30000\n",
      " FC lower limit: 0.00000\n",
      "\n",
      "\n",
      "Calculation complete!\n"
     ]
    }
   ],
   "source": [
    "# no signal uncertainty\n",
    "mus, Philow, Phihigh, n_limit, matrix, fluxarray, nent, steps = main(ini_file='data/su2020_no_sys.ini',\n",
    "                                                                     N_exp=N_exp)\n",
    "mus2, Philow2, Phihigh2, n_limit2, matrix2, fluxarray2, nent2, steps2 = main(ini_file='data/su2020_no_sys.ini',\n",
    "                                                                             N_exp=N_exp)"
   ]
  },
  {
   "cell_type": "code",
   "execution_count": 244,
   "metadata": {
    "scrolled": true
   },
   "outputs": [
    {
     "name": "stdout",
     "output_type": "stream",
     "text": [
      "Performing Conf Belt Const :\n",
      "Output hbfile:     test.hb\n",
      "fill diagnostic histos 0\n",
      "Confidence Level 0.90000\n",
      "Condition (1=yes) 0\n",
      "stepwidth : 0.100\n",
      "Feldman Cousins    1\n",
      "fluxfactor:        1.000\n",
      "Read from file: test.in\n",
      "Write to file: test.out\n",
      "Exp. BG events     0.069\n",
      "Measured events    0\n",
      " \n",
      "Used Paramterisation :\n",
      "Gaussian = 1\n",
      "flat = 2\n",
      "log-normal = 3\n",
      " \n",
      "rel Aeff unc (sig): 0.071\n",
      "Parametrization: 3\n",
      "rel Aeff unc (bck): 0.000\n",
      "Parametrization: 1\n",
      "rel bg unc:        0.230\n",
      "Parametrization: 3\n",
      "max flux:          50.000\n",
      "Number of steps: 500\n",
      "CAUTION: not bigger than 1000!\n",
      "-\n",
      "-\n",
      "Mode: single construction\n",
      "-\n",
      "expected background (x): [0.06892183]\n",
      "number of observed (y): [0]\n",
      "-\n",
      "Performing Construction for n0/bg: 0/0.06892183333333333\n",
      "-\n",
      "-\n",
      "\n",
      ".\n",
      "\n",
      "Neyman Upper Limit: 2.2000000000000006\n",
      ".\n",
      ".\n",
      ".\n",
      ".\n",
      ".\n",
      ".\n",
      ".\n",
      ".\n",
      ".\n",
      ".\n",
      ".\n",
      ".\n",
      ".\n",
      ".\n",
      ".\n",
      ".\n",
      ".\n",
      ".\n",
      ".\n",
      "\n",
      "exiting flux loop\n",
      " FC upper limit: 2.40000\n",
      " FC lower limit: 0.00000\n",
      "\n",
      "\n",
      "Calculation complete!\n",
      "Performing Conf Belt Const :\n",
      "Output hbfile:     test.hb\n",
      "fill diagnostic histos 0\n",
      "Confidence Level 0.90000\n",
      "Condition (1=yes) 0\n",
      "stepwidth : 0.100\n",
      "Feldman Cousins    1\n",
      "fluxfactor:        1.000\n",
      "Read from file: test.in\n",
      "Write to file: test.out\n",
      "Exp. BG events     0.069\n",
      "Measured events    0\n",
      " \n",
      "Used Paramterisation :\n",
      "Gaussian = 1\n",
      "flat = 2\n",
      "log-normal = 3\n",
      " \n",
      "rel Aeff unc (sig): 0.071\n",
      "Parametrization: 3\n",
      "rel Aeff unc (bck): 0.000\n",
      "Parametrization: 1\n",
      "rel bg unc:        0.230\n",
      "Parametrization: 3\n",
      "max flux:          50.000\n",
      "Number of steps: 500\n",
      "CAUTION: not bigger than 1000!\n",
      "-\n",
      "-\n",
      "Mode: single construction\n",
      "-\n",
      "expected background (x): [0.06892183]\n",
      "number of observed (y): [0]\n",
      "-\n",
      "Performing Construction for n0/bg: 0/0.06892183333333333\n",
      "-\n",
      "-\n",
      "\n",
      ".\n",
      "\n",
      "Neyman Upper Limit: 2.2000000000000006\n",
      ".\n",
      ".\n",
      ".\n",
      ".\n",
      ".\n",
      ".\n",
      ".\n",
      ".\n",
      ".\n",
      ".\n",
      ".\n",
      ".\n",
      ".\n",
      ".\n",
      ".\n",
      ".\n",
      ".\n",
      ".\n",
      ".\n",
      "\n",
      "exiting flux loop\n",
      " FC upper limit: 2.40000\n",
      " FC lower limit: 0.00000\n",
      "\n",
      "\n",
      "Calculation complete!\n"
     ]
    }
   ],
   "source": [
    "# signal uncertainty\n",
    "mus_, Philow_, Phihigh_, n_limit_, matrix_, fluxarray_, nent_, steps_ = main(ini_file='data/su2020_sys.ini',\n",
    "                                                                     N_exp=N_exp)\n",
    "mus_2, Philow_2, Phihigh_2, n_limit_2, matrix_2, fluxarray_2, nent_2, steps_2 = main(ini_file='data/su2020_sys.ini',\n",
    "                                                                                     N_exp=N_exp)"
   ]
  },
  {
   "cell_type": "code",
   "execution_count": 245,
   "metadata": {},
   "outputs": [],
   "source": [
    "#mus, n_limit"
   ]
  },
  {
   "cell_type": "code",
   "execution_count": 246,
   "metadata": {},
   "outputs": [
    {
     "data": {
      "text/plain": [
       "((500,), (2, 500))"
      ]
     },
     "execution_count": 246,
     "metadata": {},
     "output_type": "execute_result"
    }
   ],
   "source": [
    "mus.shape, n_limit.shape"
   ]
  },
  {
   "cell_type": "code",
   "execution_count": 257,
   "metadata": {},
   "outputs": [],
   "source": [
    "b = 0.06892183"
   ]
  },
  {
   "cell_type": "code",
   "execution_count": 260,
   "metadata": {},
   "outputs": [
    {
     "data": {
      "image/png": "[encoded data removed]",
      "text/plain": [
       "<Figure size 720x576 with 1 Axes>"
      ]
     },
     "metadata": {
      "needs_background": "light"
     },
     "output_type": "display_data"
    }
   ],
   "source": [
    "#fig, ax = plt.subplots(figsize=(10,8))\n",
    "fig, ax = plt.subplots()\n",
    "ax.scatter(n_limit[0,:], mus, c='blue', marker='^',\n",
    "           label='No systematics (Trial 1)')\n",
    "           #label=r'Fractional Uncertainty = 0 (Trial 1)')\n",
    "ax.scatter(n_limit[1,:], mus, c='blue', marker='^')\n",
    "ax.scatter(n_limit2[0,:], mus2, marker='^', facecolors='none', edgecolors='cyan',\n",
    "           label='No systematics (Trial 2)')\n",
    "#            label=r'Fractional Uncertainty = 0 (Trial 2)')\n",
    "ax.scatter(n_limit2[1,:], mus2, marker='^', facecolors='none', edgecolors='cyan')\n",
    "ax.scatter(n_limit_[0,:], mus_, c='red',\n",
    "           label='With systematics (Trial 1)')\n",
    "#            label=r'Fractional Uncertainty = 0.4 (Trial 1)')\n",
    "ax.scatter(n_limit_[1,:], mus_, c='red')\n",
    "ax.scatter(n_limit_2[0,:], mus_2, marker='o', facecolors='none', edgecolors=f'orange',\n",
    "           label='With systematics (Trial 2)')\n",
    "#            label=r'Fractional Uncertainty = 0.4 (Trial 2)')\n",
    "ax.scatter(n_limit_2[1,:], mus_2, marker='o', facecolors='none', edgecolors=f'orange')\n",
    "ax.set_xlim([0,60])\n",
    "#ax.set_ylim([0,12])\n",
    "#ax.set_xticks(np.arange(0, 55, 5))\n",
    "# ax.set_yticks(np.arange(0, 27.5, 2.5))\n",
    "ax.xaxis.set_minor_locator(AutoMinorLocator())\n",
    "ax.yaxis.set_minor_locator(AutoMinorLocator())\n",
    "ax.tick_params(direction='in', which='both')\n",
    "ax.set_xlabel(r'$n$')\n",
    "# ax.set_ylabel(r'$\\mu$');\n",
    "ax.set_ylabel('s');\n",
    "ax.set_title('Mu2e SU2020: 90% Confidence Belts\\n'+rf'Feldman-Cousins Ordering, $b = {total_bg:0.3f}$')\n",
    "ax.legend()\n",
    "fig.savefig('su2020_CI.png', transparent=False)\n",
    "fig.savefig('su2020_CI.pdf', transparent=False)"
   ]
  },
  {
   "cell_type": "code",
   "execution_count": 259,
   "metadata": {},
   "outputs": [
    {
     "data": {
      "image/png": "[encoded data removed]",
      "text/plain": [
       "<Figure size 720x576 with 1 Axes>"
      ]
     },
     "metadata": {
      "needs_background": "light"
     },
     "output_type": "display_data"
    }
   ],
   "source": [
    "#fig, ax = plt.subplots(figsize=(10,8))\n",
    "fig, ax = plt.subplots()\n",
    "ax.scatter(n_limit[0,:], ses*mus, c='blue', marker='^',\n",
    "           label='No systematics (Trial 1)')\n",
    "           #label=r'Fractional Uncertainty = 0 (Trial 1)')\n",
    "ax.scatter(n_limit[1,:],  ses*mus, c='blue', marker='^')\n",
    "ax.scatter(n_limit2[0,:],  ses*mus2, marker='^', facecolors='none', edgecolors='cyan',\n",
    "           label='No systematics (Trial 2)')\n",
    "#            label=r'Fractional Uncertainty = 0 (Trial 2)')\n",
    "ax.scatter(n_limit2[1,:],  ses*mus2, marker='^', facecolors='none', edgecolors='cyan')\n",
    "ax.scatter(n_limit_[0,:],  ses*mus_, c='red',\n",
    "           label='With systematics (Trial 1)')\n",
    "#            label=r'Fractional Uncertainty = 0.4 (Trial 1)')\n",
    "ax.scatter(n_limit_[1,:],  ses*mus_, c='red')\n",
    "ax.scatter(n_limit_2[0,:],  ses*mus_2, marker='o', facecolors='none', edgecolors=f'orange',\n",
    "           label='With systematics (Trial 2)')\n",
    "#            label=r'Fractional Uncertainty = 0.4 (Trial 2)')\n",
    "ax.scatter(n_limit_2[1,:],  ses*mus_2, marker='o', facecolors='none', edgecolors=f'orange')\n",
    "ax.set_xlim([0,60])\n",
    "ax.set_ylim([0,1e-14])\n",
    "#ax.set_xticks(np.arange(0, 55, 5))\n",
    "# ax.set_yticks(np.arange(0, 27.5, 2.5))\n",
    "ax.xaxis.set_minor_locator(AutoMinorLocator())\n",
    "ax.yaxis.set_minor_locator(AutoMinorLocator())\n",
    "ax.tick_params(direction='in', which='both')\n",
    "ax.set_xlabel(r'$n_{obs.}$')\n",
    "# ax.set_ylabel(r'$\\mu$');\n",
    "ax.set_ylabel(r'$R_{\\mu e}$');\n",
    "ax.set_title('Mu2e SU2020: 90% Confidence Belts\\n'+rf'Feldman-Cousins Ordering, $b = {total_bg:0.3f}$')\n",
    "ax.legend()\n",
    "fig.savefig('su2020_CI_ses.png', transparent=False)\n",
    "fig.savefig('su2020_CI_ses.pdf', transparent=False)"
   ]
  },
  {
   "cell_type": "code",
   "execution_count": 211,
   "metadata": {},
   "outputs": [
    {
     "data": {
      "text/plain": [
       "2.0796886280602864e-16"
      ]
     },
     "execution_count": 211,
     "metadata": {},
     "output_type": "execute_result"
    }
   ],
   "source": [
    "ses"
   ]
  },
  {
   "cell_type": "markdown",
   "metadata": {},
   "source": [
    "# Calculate Limits for some interesting cases of $n_{obs}$\n",
    "**CAUTION: These take a long time to run.**\n",
    "- Width = 0.01"
   ]
  },
  {
   "cell_type": "code",
   "execution_count": 242,
   "metadata": {},
   "outputs": [],
   "source": [
    "N_exp = int(1e5)"
   ]
  },
  {
   "cell_type": "code",
   "execution_count": 254,
   "metadata": {
    "scrolled": true
   },
   "outputs": [
    {
     "name": "stdout",
     "output_type": "stream",
     "text": [
      "Performing Conf Belt Const :\n",
      "Output hbfile:     test.hb\n",
      "fill diagnostic histos 0\n",
      "Confidence Level 0.90000\n",
      "Condition (1=yes) 0\n",
      "stepwidth : 0.010\n",
      "Feldman Cousins    1\n",
      "fluxfactor:        1.000\n",
      "Read from file: su2020.in\n",
      "Write to file: su2020_no_sys.out\n",
      "Exp. BG events     0.069\n",
      "Measured events    0\n",
      " \n",
      "Used Paramterisation :\n",
      "Gaussian = 1\n",
      "flat = 2\n",
      "log-normal = 3\n",
      " \n",
      "rel Aeff unc (sig): 0.000\n",
      "Parametrization: 3\n",
      "rel Aeff unc (bck): 0.000\n",
      "Parametrization: 1\n",
      "rel bg unc:        0.000\n",
      "Parametrization: 3\n",
      "max flux:          50.000\n",
      "Number of steps: 5000\n",
      "CAUTION: not bigger than 1000!\n",
      "-\n",
      "-\n",
      "Mode: Read input from file\n",
      "-\n",
      "expected background (x): [0.06892183 0.06892183 0.06892183 0.06892183 0.06892183 0.06892183\n",
      " 0.06892183]\n",
      "number of observed (y): [ 0.  1.  2.  4.  8. 16. 32.]\n",
      "-\n",
      "Performing Construction for n0/bg: 0.0/0.06892183333333333\n",
      "-\n",
      "-\n",
      "\n",
      ".\n",
      "\n",
      "Neyman Upper Limit: 2.209999999999997\n",
      ".\n",
      ".\n",
      ".\n",
      ".\n",
      ".\n",
      ".\n",
      ".\n",
      ".\n",
      ".\n",
      ".\n",
      ".\n",
      ".\n",
      ".\n",
      ".\n",
      ".\n",
      ".\n",
      ".\n",
      ".\n",
      ".\n",
      "\n",
      "exiting flux loop\n",
      " FC upper limit: 2.37000\n",
      " FC lower limit: 0.00000\n",
      "\n",
      "\n",
      "-\n",
      "Performing Construction for n0/bg: 1.0/0.06892183333333333\n",
      "-\n",
      "-\n",
      "\n",
      ".\n",
      ".\n",
      "\n",
      "Neyman Upper Limit: 3.8099999999999627\n",
      ".\n",
      ".\n",
      ".\n",
      ".\n",
      ".\n",
      ".\n",
      ".\n",
      ".\n",
      ".\n",
      ".\n",
      ".\n",
      ".\n",
      ".\n",
      ".\n",
      ".\n",
      ".\n",
      ".\n",
      ".\n",
      "\n",
      "exiting flux loop\n",
      " FC upper limit: 4.30000\n",
      " FC lower limit: 0.03000\n",
      "\n",
      "\n",
      "-\n",
      "Performing Construction for n0/bg: 2.0/0.06892183333333333\n",
      "-\n",
      "-\n",
      "\n",
      ".\n",
      ".\n",
      ".\n",
      "\n",
      "Neyman Upper Limit: 5.2499999999999325\n",
      ".\n",
      ".\n",
      ".\n",
      ".\n",
      ".\n",
      ".\n",
      ".\n",
      ".\n",
      ".\n",
      ".\n",
      ".\n",
      ".\n",
      ".\n",
      ".\n",
      ".\n",
      ".\n",
      ".\n",
      "\n",
      "exiting flux loop\n",
      " FC upper limit: 5.85000\n",
      " FC lower limit: 0.45000\n",
      "\n",
      "\n",
      "-\n",
      "Performing Construction for n0/bg: 4.0/0.06892183333333333\n",
      "-\n",
      "-\n",
      "\n",
      ".\n",
      ".\n",
      ".\n",
      ".\n",
      "\n",
      "Neyman Upper Limit: 7.919999999999876\n",
      ".\n",
      ".\n",
      ".\n",
      ".\n",
      ".\n",
      ".\n",
      ".\n",
      ".\n",
      ".\n",
      ".\n",
      ".\n",
      ".\n",
      ".\n",
      ".\n",
      ".\n",
      ".\n",
      "\n",
      "exiting flux loop\n",
      " FC upper limit: 8.51000\n",
      " FC lower limit: 1.44000\n",
      "\n",
      "\n",
      "-\n",
      "Performing Construction for n0/bg: 8.0/0.06892183333333333\n",
      "-\n",
      "-\n",
      "\n",
      ".\n",
      ".\n",
      ".\n",
      ".\n",
      ".\n",
      ".\n",
      "\n",
      "Neyman Upper Limit: 12.90999999999977\n",
      ".\n",
      ".\n",
      ".\n",
      ".\n",
      ".\n",
      ".\n",
      ".\n",
      ".\n",
      ".\n",
      ".\n",
      ".\n",
      ".\n",
      ".\n",
      ".\n",
      "\n",
      "exiting flux loop\n",
      " FC upper limit: 13.96000\n",
      " FC lower limit: 3.90000\n",
      "\n",
      "\n",
      "-\n",
      "Performing Construction for n0/bg: 16.0/0.06892183333333333\n",
      "-\n",
      "-\n",
      "\n",
      ".\n",
      ".\n",
      ".\n",
      ".\n",
      ".\n",
      ".\n",
      ".\n",
      ".\n",
      ".\n",
      "\n",
      "Neyman Upper Limit: 22.360000000000696\n",
      ".\n",
      ".\n",
      ".\n",
      ".\n",
      ".\n",
      ".\n",
      ".\n",
      ".\n",
      ".\n",
      ".\n",
      ".\n",
      "\n",
      "exiting flux loop\n",
      " FC upper limit: 23.95000\n",
      " FC lower limit: 9.94000\n",
      "\n",
      "\n",
      "-\n",
      "Performing Construction for n0/bg: 32.0/0.06892183333333333\n",
      "-\n",
      "-\n",
      "\n",
      ".\n",
      ".\n",
      ".\n",
      ".\n",
      ".\n",
      ".\n",
      ".\n",
      ".\n",
      ".\n",
      ".\n",
      ".\n",
      ".\n",
      ".\n",
      ".\n",
      ".\n",
      ".\n",
      ".\n",
      "\n",
      "Neyman Upper Limit: 40.44000000000052\n",
      ".\n",
      ".\n",
      ".\n",
      "\n",
      "exiting flux loop\n",
      " FC upper limit: 42.23000\n",
      " FC lower limit: 23.49000\n",
      "\n",
      "\n",
      "Calculation complete!\n"
     ]
    }
   ],
   "source": [
    "# no signal uncertainty\n",
    "mus, Philow, Phihigh, n_limit, matrix, fluxarray, nent, steps = main(ini_file='data/su2020_no_sys_n_calcs.ini',\n",
    "                                                                     N_exp=N_exp)"
   ]
  },
  {
   "cell_type": "code",
   "execution_count": 255,
   "metadata": {
    "scrolled": true
   },
   "outputs": [
    {
     "name": "stdout",
     "output_type": "stream",
     "text": [
      "Performing Conf Belt Const :\n",
      "Output hbfile:     test.hb\n",
      "fill diagnostic histos 0\n",
      "Confidence Level 0.90000\n",
      "Condition (1=yes) 0\n",
      "stepwidth : 0.010\n",
      "Feldman Cousins    1\n",
      "fluxfactor:        1.000\n",
      "Read from file: su2020.in\n",
      "Write to file: su2020_sys.out\n",
      "Exp. BG events     0.069\n",
      "Measured events    0\n",
      " \n",
      "Used Paramterisation :\n",
      "Gaussian = 1\n",
      "flat = 2\n",
      "log-normal = 3\n",
      " \n",
      "rel Aeff unc (sig): 0.071\n",
      "Parametrization: 3\n",
      "rel Aeff unc (bck): 0.000\n",
      "Parametrization: 1\n",
      "rel bg unc:        0.230\n",
      "Parametrization: 3\n",
      "max flux:          50.000\n",
      "Number of steps: 5000\n",
      "CAUTION: not bigger than 1000!\n",
      "-\n",
      "-\n",
      "Mode: Read input from file\n",
      "-\n",
      "expected background (x): [0.06892183 0.06892183 0.06892183 0.06892183 0.06892183 0.06892183\n",
      " 0.06892183]\n",
      "number of observed (y): [ 0.  1.  2.  4.  8. 16. 32.]\n",
      "-\n",
      "Performing Construction for n0/bg: 0.0/0.06892183333333333\n",
      "-\n",
      "-\n",
      "\n",
      ".\n",
      "\n",
      "Neyman Upper Limit: 2.249999999999996\n",
      ".\n",
      ".\n",
      ".\n",
      ".\n",
      ".\n",
      ".\n",
      ".\n",
      ".\n",
      ".\n",
      ".\n",
      ".\n",
      ".\n",
      ".\n",
      ".\n",
      ".\n",
      ".\n",
      ".\n",
      ".\n",
      ".\n",
      "\n",
      "exiting flux loop\n",
      " FC upper limit: 2.40000\n",
      " FC lower limit: 0.00000\n",
      "\n",
      "\n",
      "-\n",
      "Performing Construction for n0/bg: 1.0/0.06892183333333333\n",
      "-\n",
      "-\n",
      "\n",
      ".\n",
      ".\n",
      "\n",
      "Neyman Upper Limit: 3.8199999999999625\n",
      ".\n",
      ".\n",
      ".\n",
      ".\n",
      ".\n",
      ".\n",
      ".\n",
      ".\n",
      ".\n",
      ".\n",
      ".\n",
      ".\n",
      ".\n",
      ".\n",
      ".\n",
      ".\n",
      ".\n",
      ".\n",
      "\n",
      "exiting flux loop\n",
      " FC upper limit: 4.28000\n",
      " FC lower limit: 0.03000\n",
      "\n",
      "\n",
      "-\n",
      "Performing Construction for n0/bg: 2.0/0.06892183333333333\n",
      "-\n",
      "-\n",
      "\n",
      ".\n",
      ".\n",
      ".\n",
      "\n",
      "Neyman Upper Limit: 5.279999999999932\n",
      ".\n",
      ".\n",
      ".\n",
      ".\n",
      ".\n",
      ".\n",
      ".\n",
      ".\n",
      ".\n",
      ".\n",
      ".\n",
      ".\n",
      ".\n",
      ".\n",
      ".\n",
      ".\n",
      ".\n",
      "\n",
      "exiting flux loop\n",
      " FC upper limit: 5.81000\n",
      " FC lower limit: 0.46000\n",
      "\n",
      "\n",
      "-\n",
      "Performing Construction for n0/bg: 4.0/0.06892183333333333\n",
      "-\n",
      "-\n",
      "\n",
      ".\n",
      ".\n",
      ".\n",
      ".\n",
      "\n",
      "Neyman Upper Limit: 8.009999999999874\n",
      ".\n",
      ".\n",
      ".\n",
      ".\n",
      ".\n",
      ".\n",
      ".\n",
      ".\n",
      ".\n",
      ".\n",
      ".\n",
      ".\n",
      ".\n",
      ".\n",
      ".\n",
      ".\n",
      "\n",
      "exiting flux loop\n",
      " FC upper limit: 8.84000\n",
      " FC lower limit: 1.42000\n",
      "\n",
      "\n",
      "-\n",
      "Performing Construction for n0/bg: 8.0/0.06892183333333333\n",
      "-\n",
      "-\n",
      "\n",
      ".\n",
      ".\n",
      ".\n",
      ".\n",
      ".\n",
      ".\n",
      "\n",
      "Neyman Upper Limit: 13.069999999999766\n",
      ".\n",
      ".\n",
      ".\n",
      ".\n",
      ".\n",
      ".\n",
      ".\n",
      ".\n",
      ".\n",
      ".\n",
      ".\n",
      ".\n",
      ".\n",
      ".\n",
      "\n",
      "exiting flux loop\n",
      " FC upper limit: 14.33000\n",
      " FC lower limit: 3.90000\n",
      "\n",
      "\n",
      "-\n",
      "Performing Construction for n0/bg: 16.0/0.06892183333333333\n",
      "-\n",
      "-\n",
      "\n",
      ".\n",
      ".\n",
      ".\n",
      ".\n",
      ".\n",
      ".\n",
      ".\n",
      ".\n",
      ".\n",
      ".\n",
      "\n",
      "Neyman Upper Limit: 22.71000000000075\n",
      ".\n",
      ".\n",
      ".\n",
      ".\n",
      ".\n",
      ".\n",
      ".\n",
      ".\n",
      ".\n",
      ".\n",
      "\n",
      "exiting flux loop\n",
      " FC upper limit: 24.35000\n",
      " FC lower limit: 9.92000\n",
      "\n",
      "\n",
      "-\n",
      "Performing Construction for n0/bg: 32.0/0.06892183333333333\n",
      "-\n",
      "-\n",
      "\n",
      ".\n",
      ".\n",
      ".\n",
      ".\n",
      ".\n",
      ".\n",
      ".\n",
      ".\n",
      ".\n",
      ".\n",
      ".\n",
      ".\n",
      ".\n",
      ".\n",
      ".\n",
      ".\n",
      ".\n",
      "\n",
      "Neyman Upper Limit: 41.32000000000035\n",
      ".\n",
      ".\n",
      ".\n",
      "\n",
      "exiting flux loop\n",
      " FC upper limit: 42.99000\n",
      " FC lower limit: 22.87000\n",
      "\n",
      "\n",
      "Calculation complete!\n"
     ]
    }
   ],
   "source": [
    "# signal uncertainty\n",
    "mus_, Philow_, Phihigh_, n_limit_, matrix_, fluxarray_, nent_, steps_ = main(ini_file='data/su2020_sys_n_calcs.ini',\n",
    "                                                                     N_exp=N_exp)"
   ]
  },
  {
   "cell_type": "code",
   "execution_count": null,
   "metadata": {},
   "outputs": [],
   "source": []
  },
  {
   "cell_type": "code",
   "execution_count": 256,
   "metadata": {},
   "outputs": [
    {
     "data": {
      "text/plain": [
       "2.0796886280602864e-16"
      ]
     },
     "execution_count": 256,
     "metadata": {},
     "output_type": "execute_result"
    }
   ],
   "source": [
    "ses"
   ]
  },
  {
   "cell_type": "code",
   "execution_count": null,
   "metadata": {},
   "outputs": [],
   "source": []
  },
  {
   "cell_type": "markdown",
   "metadata": {},
   "source": [
    "# Compare with M. MacKenzie\n",
    "- Code in C++/ROOT"
   ]
  },
  {
   "cell_type": "code",
   "execution_count": 212,
   "metadata": {},
   "outputs": [],
   "source": [
    "N_exp = int(1e5)"
   ]
  },
  {
   "cell_type": "code",
   "execution_count": 216,
   "metadata": {},
   "outputs": [
    {
     "name": "stdout",
     "output_type": "stream",
     "text": [
      "Performing Conf Belt Const :\n",
      "Output hbfile:     test.hb\n",
      "fill diagnostic histos 0\n",
      "Confidence Level 0.90000\n",
      "Condition (1=yes) 0\n",
      "stepwidth : 0.025\n",
      "Feldman Cousins    1\n",
      "fluxfactor:        1.000\n",
      "Read from file: test.in\n",
      "Write to file: test.out\n",
      "Exp. BG events     0.069\n",
      "Measured events    0\n",
      " \n",
      "Used Paramterisation :\n",
      "Gaussian = 1\n",
      "flat = 2\n",
      "log-normal = 3\n",
      " \n",
      "rel Aeff unc (sig): 0.000\n",
      "Parametrization: 3\n",
      "rel Aeff unc (bck): 0.000\n",
      "Parametrization: 1\n",
      "rel bg unc:        0.000\n",
      "Parametrization: 3\n",
      "max flux:          20.000\n",
      "Number of steps: 800\n",
      "CAUTION: not bigger than 1000!\n",
      "-\n",
      "-\n",
      "Mode: single construction\n",
      "-\n",
      "expected background (x): [0.0689218]\n",
      "number of observed (y): [0]\n",
      "-\n",
      "Performing Construction for n0/bg: 0/0.0689218\n",
      "-\n",
      "-\n",
      "\n",
      ".\n",
      ".\n",
      ".\n",
      "\n",
      "Neyman Upper Limit: 2.199999999999996\n",
      ".\n",
      ".\n",
      ".\n",
      ".\n",
      ".\n",
      ".\n",
      ".\n",
      ".\n",
      ".\n",
      ".\n",
      ".\n",
      ".\n",
      ".\n",
      ".\n",
      ".\n",
      ".\n",
      ".\n",
      "\n",
      "exiting flux loop\n",
      " FC upper limit: 2.37500\n",
      " FC lower limit: 0.00000\n",
      "\n",
      "\n",
      "Calculation complete!\n"
     ]
    }
   ],
   "source": [
    "mus, Philow, Phihigh, n_limit, matrix, fluxarray, nent, steps = main(ini_file='data/su2020_no_sys_mmackenz.ini',\n",
    "                                                                     N_exp=N_exp)"
   ]
  },
  {
   "cell_type": "code",
   "execution_count": 214,
   "metadata": {},
   "outputs": [
    {
     "data": {
      "text/plain": [
       "4.575314981732631e-16"
      ]
     },
     "execution_count": 214,
     "metadata": {},
     "output_type": "execute_result"
    }
   ],
   "source": [
    "2.2*ses"
   ]
  },
  {
   "cell_type": "code",
   "execution_count": 217,
   "metadata": {},
   "outputs": [
    {
     "data": {
      "text/plain": [
       "2.3875"
      ]
     },
     "execution_count": 217,
     "metadata": {},
     "output_type": "execute_result"
    }
   ],
   "source": [
    "(2.375+2.400)/2"
   ]
  },
  {
   "cell_type": "markdown",
   "metadata": {},
   "source": [
    "# Profiling Code"
   ]
  },
  {
   "cell_type": "code",
   "execution_count": 38,
   "metadata": {},
   "outputs": [
    {
     "name": "stdout",
     "output_type": "stream",
     "text": [
      "Performing Conf Belt Const :\n",
      "Output hbfile:     test.hb\n",
      "fill diagnostic histos 0\n",
      "Confidence Level 0.90000\n",
      "Condition (1=yes) 0\n",
      "stepwidth : 0.010\n",
      "Feldman Cousins    1\n",
      "fluxfactor:        1.000\n",
      "Read from file: test.in\n",
      "Write to file: test.out\n",
      "Exp. BG events     3.000\n",
      "Measured events    7\n",
      " \n",
      "Used Paramterisation :\n",
      "Gaussian = 1\n",
      "flat = 2\n",
      "log-normal = 3\n",
      " \n",
      "rel Aeff unc (sig): 0.000\n",
      "Parametrization: 3\n",
      "rel Aeff unc (bck): 0.000\n",
      "Parametrization: 1\n",
      "rel bg unc:        0.109\n",
      "Parametrization: 3\n",
      "max flux:          5.000\n",
      "Number of steps: 500\n",
      "CAUTION: not bigger than 1000!\n",
      "-\n",
      "-\n",
      "Mode: Read input from file\n",
      "-\n",
      "expected background (x): [0.041]\n",
      "number of observed (y): [0.]\n",
      "-\n",
      "Performing Construction for n0/bg: 0.0/0.041\n",
      "-\n",
      "-\n",
      "\n",
      ".\n",
      ".\n",
      ".\n",
      ".\n",
      ".\n",
      ".\n",
      ".\n",
      ".\n",
      ".\n",
      ".\n",
      "\n",
      "Neyman Upper Limit: 2.259999999999996\n",
      ".\n",
      ".\n",
      ".\n",
      ".\n",
      ".\n",
      ".\n",
      ".\n",
      ".\n",
      ".\n",
      ".\n",
      "\n",
      "exiting flux loop\n",
      " FC upper limit: 2.41000\n",
      " FC lower limit: 0.00000\n",
      "\n",
      "\n",
      "Calculation complete!\n",
      " "
     ]
    }
   ],
   "source": [
    "%prun main()"
   ]
  },
  {
   "cell_type": "code",
   "execution_count": null,
   "metadata": {},
   "outputs": [],
   "source": [
    "#ses = 5.56e-17\n",
    "#ses * 2.2, ses*"
   ]
  },
  {
   "cell_type": "markdown",
   "metadata": {},
   "source": [
    "- Currently runs quite a bit slower than FORTRAN\n",
    "- Vectorize and should run quicker.\n",
    "- Could also try using Gaussian approx for mu>20 (Poisson)"
   ]
  },
  {
   "cell_type": "code",
   "execution_count": null,
   "metadata": {},
   "outputs": [],
   "source": []
  },
  {
   "cell_type": "markdown",
   "metadata": {},
   "source": [
    "# SCRATCH"
   ]
  },
  {
   "cell_type": "markdown",
   "metadata": {},
   "source": [
    "## Log Normal vs. Gaussian"
   ]
  },
  {
   "cell_type": "code",
   "execution_count": 79,
   "metadata": {},
   "outputs": [],
   "source": [
    "N = 100000\n",
    "mu = 1\n",
    "std = 0.4\n",
    "var = std**2"
   ]
  },
  {
   "cell_type": "code",
   "execution_count": 80,
   "metadata": {},
   "outputs": [],
   "source": [
    "# generate gaussian and look at sample mean / std\n",
    "xs = np.random.normal(loc=mu, scale=std, size=N)"
   ]
  },
  {
   "cell_type": "code",
   "execution_count": 81,
   "metadata": {},
   "outputs": [
    {
     "data": {
      "text/plain": [
       "(1.001047438157665, 0.39941000718227043)"
      ]
     },
     "execution_count": 81,
     "metadata": {},
     "output_type": "execute_result"
    }
   ],
   "source": [
    "xs.mean(), xs.std()"
   ]
  },
  {
   "cell_type": "code",
   "execution_count": 82,
   "metadata": {},
   "outputs": [],
   "source": [
    "std_ln = std\n",
    "mu_ln = np.log(mu) - std**2 / 2"
   ]
  },
  {
   "cell_type": "code",
   "execution_count": 84,
   "metadata": {},
   "outputs": [
    {
     "data": {
      "text/plain": [
       "(0.4, -0.08000000000000002)"
      ]
     },
     "execution_count": 84,
     "metadata": {},
     "output_type": "execute_result"
    }
   ],
   "source": [
    "std_ln, mu_ln"
   ]
  },
  {
   "cell_type": "code",
   "execution_count": 87,
   "metadata": {},
   "outputs": [],
   "source": [
    "# generate log-normal\n",
    "ys = np.random.lognormal(mean=mu_ln, sigma=std_ln, size=N)"
   ]
  },
  {
   "cell_type": "code",
   "execution_count": 88,
   "metadata": {},
   "outputs": [
    {
     "data": {
      "text/plain": [
       "(0.9982725656238518, 0.41613017191659896)"
      ]
     },
     "execution_count": 88,
     "metadata": {},
     "output_type": "execute_result"
    }
   ],
   "source": [
    "ys.mean(), ys.std()"
   ]
  },
  {
   "cell_type": "markdown",
   "metadata": {},
   "source": [
    "- These look pretty close! Let's try the wiki method, which should get both spot on"
   ]
  },
  {
   "cell_type": "code",
   "execution_count": 93,
   "metadata": {},
   "outputs": [],
   "source": [
    "mu_ln = np.log(mu**2 / (mu**2 + std**2)**(1/2))\n",
    "std_ln = (np.log(1+std**2/mu**2))**(1/2)"
   ]
  },
  {
   "cell_type": "code",
   "execution_count": 94,
   "metadata": {},
   "outputs": [
    {
     "data": {
      "text/plain": [
       "(-0.07421000255913678, 0.38525317015992666)"
      ]
     },
     "execution_count": 94,
     "metadata": {},
     "output_type": "execute_result"
    }
   ],
   "source": [
    "mu_ln, std_ln"
   ]
  },
  {
   "cell_type": "code",
   "execution_count": 95,
   "metadata": {},
   "outputs": [],
   "source": [
    "# generate log-normal\n",
    "ys = np.random.lognormal(mean=mu_ln, sigma=std_ln, size=N)"
   ]
  },
  {
   "cell_type": "code",
   "execution_count": 96,
   "metadata": {},
   "outputs": [
    {
     "data": {
      "text/plain": [
       "(0.9986280186915583, 0.3984484719297211)"
      ]
     },
     "execution_count": 96,
     "metadata": {},
     "output_type": "execute_result"
    }
   ],
   "source": [
    "ys.mean(), ys.std()"
   ]
  },
  {
   "cell_type": "markdown",
   "metadata": {},
   "source": [
    "- Looks about the same as Conrad result."
   ]
  },
  {
   "cell_type": "markdown",
   "metadata": {},
   "source": [
    "**Prescription**\n",
    "- $\\mu, \\sigma$ for a nuisance parameter given (expected background, signal efficiency, background efficiency)\n",
    "- If log-normal parameterization selected (3), then:\n",
    "    - $\\mu_{LN} = \\ln{\\mu} - \\sigma^2 / 2$\n",
    "    - $\\sigma_{LN} = \\sigma$\n",
    "    - These are the parameters to use with the log-normal generator"
   ]
  }
 ],
 "metadata": {
  "kernelspec": {
   "display_name": "Python [conda env:mu2e_utils]",
   "language": "python",
   "name": "conda-env-mu2e_utils-py"
  },
  "language_info": {
   "codemirror_mode": {
    "name": "ipython",
    "version": 3
   },
   "file_extension": ".py",
   "mimetype": "text/x-python",
   "name": "python",
   "nbconvert_exporter": "python",
   "pygments_lexer": "ipython3",
   "version": "3.8.5"
  }
 },
 "nbformat": 4,
 "nbformat_minor": 2
}
